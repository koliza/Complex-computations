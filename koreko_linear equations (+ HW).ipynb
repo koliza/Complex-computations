{
 "cells": [
  {
   "cell_type": "markdown",
   "metadata": {},
   "source": [
    "# Solving linear equations"
   ]
  },
  {
   "cell_type": "markdown",
   "metadata": {},
   "source": [
    "# I. $LU$ factorization of a square matrix"
   ]
  },
  {
   "cell_type": "markdown",
   "metadata": {},
   "source": [
    "Let us consider a decomposition of a square $n \\times n$ matrix A as follows:\n",
    "$$A = L \\cdot U, \\; \\mbox{where} \\; A = \\begin{pmatrix} \n",
    "                                            a_{11} & a_{12} & a_{13} & \\ldots & a_{1n} \\\\\n",
    "                                            a_{21} & a_{22} & a_{23} & \\ldots & a_{2n} \\\\\n",
    "                                            a_{31} & a_{32} & a_{33} & \\ldots & a_{3n} \\\\\n",
    "                                            \\vdots & \\vdots & \\vdots & \\ddots & \\vdots \\\\\n",
    "                                            a_{n1} & a_{n2} & a_{n3} & \\ldots & a_{nn} \\\\\n",
    "                                        \\end{pmatrix}\n",
    "                               , \\; L = \\begin{pmatrix} \n",
    "                                            1 & 0 & 0 & \\ldots & 0 \\\\\n",
    "                                            * & 1 & 0 & \\ldots & 0 \\\\\n",
    "                                            * & * & 1 & \\ldots & 0 \\\\\n",
    "                                            \\vdots & \\vdots & \\vdots & \\ddots & \\vdots \\\\\n",
    "                                            * & * & * & \\ldots & 1 \\\\\n",
    "                                        \\end{pmatrix}\n",
    "                               , \\; U = \\begin{pmatrix} \n",
    "                                            a_{11} & * & * & \\ldots & * \\\\\n",
    "                                            0 & a_{22} & * & \\ldots & * \\\\\n",
    "                                            0 & 0 & a_{33} & \\ldots & * \\\\\n",
    "                                            \\vdots & \\vdots & \\vdots & \\ddots & \\vdots \\\\\n",
    "                                            0 & 0 & 0 & \\ldots & a_{nn} \\\\\n",
    "                                        \\end{pmatrix} .$$"
   ]
  },
  {
   "cell_type": "markdown",
   "metadata": {},
   "source": [
    "Let's start with Gaussian elimination. When we are working with the first column, we combine the first row and the second row multiplied by coefficient $$\\gamma_{21} = \\cfrac{a_{21}}{a{11}};$$ then the first row and the third row multiplied by coefficient $$\\gamma_{31} = \\cfrac{a_{31}}{a{11}},$$ and so on."
   ]
  },
  {
   "cell_type": "markdown",
   "metadata": {},
   "source": [
    "Hereby, to eliminate all elements below $a_{11}$ we need to multiply matrix A by matrix $$\\Lambda_1 = \\begin{pmatrix} \n",
    "                                                        1 & 0 & 0 & \\ldots & 0 \\\\\n",
    "                                                        -\\gamma_{21} & 1 & 0 & \\ldots & 0 \\\\\n",
    "                                                        -\\gamma_{31} & 0 & 1 & \\ldots & 0 \\\\\n",
    "                                                        \\vdots & \\vdots & \\vdots & \\ddots & \\vdots \\\\\n",
    "                                                        -\\gamma_{n1} & 0 & 0 & \\ldots & 1 \\\\\n",
    "                                                    \\end{pmatrix}$$\n",
    "(prove it by trying to act with $\\Lambda_1$ on the first column of matrix A)."
   ]
  },
  {
   "cell_type": "markdown",
   "metadata": {},
   "source": [
    "Likewise, we can construct matrix $\\Lambda_2$ as $$\\Lambda_2 = \\begin{pmatrix} \n",
    "                                                                1 & 0 & 0 & \\ldots & 0 \\\\\n",
    "                                                                0 & 1 & 0 & \\ldots & 0 \\\\\n",
    "                                                                0 & -\\gamma_{32} & 1 & \\ldots & 0 \\\\\n",
    "                                                                \\vdots & \\vdots & \\vdots & \\ddots & \\vdots \\\\\n",
    "                                                                0 & -\\gamma_{n2} & 0 & \\ldots & 1 \\\\\n",
    "                                                            \\end{pmatrix}.$$"
   ]
  },
  {
   "cell_type": "markdown",
   "metadata": {},
   "source": [
    "Finally, we will get the upper triangular matrix $$U = \\Lambda_n \\cdot \\Lambda_{n-1} \\cdot \\ldots \\cdot \\Lambda_2 \\cdot \\Lambda_1 A. $$\n",
    "Hence the lower triangular matrix $L = \\Lambda_1^{-1} \\cdot \\Lambda_2^{-1} \\cdot \\ldots \\cdot \\Lambda_{n-1}^{-1} \\cdot \\Lambda_n^{-1}.$"
   ]
  },
  {
   "cell_type": "markdown",
   "metadata": {},
   "source": [
    "One can show that, for example, $$\\Lambda_1^{-1} = \\begin{pmatrix} \n",
    "                                                        1 & 0 & 0 & \\ldots & 0 \\\\\n",
    "                                                        \\gamma_{21} & 1 & 0 & \\ldots & 0 \\\\\n",
    "                                                        \\gamma_{31} & 0 & 1 & \\ldots & 0 \\\\\n",
    "                                                        \\vdots & \\vdots & \\vdots & \\ddots & \\vdots \\\\\n",
    "                                                        \\gamma_{n1} & 0 & 0 & \\ldots & 1 \\\\\n",
    "                                                    \\end{pmatrix}$$"
   ]
  },
  {
   "cell_type": "markdown",
   "metadata": {},
   "source": [
    "Note that we're using the `numpy` arrays to represent matrices [do **not** use `np.matrix`]."
   ]
  },
  {
   "cell_type": "code",
   "execution_count": 35,
   "metadata": {},
   "outputs": [],
   "source": [
    "import numpy as np\n",
    "\n",
    "def diy_lu_ext(a):\n",
    "    \"\"\"\n",
    "    Construct the LU decomposition of the input matrix.\n",
    "    \n",
    "    Naive LU decomposition: work column by column, accumulate elementary triangular matrices.\n",
    "    No pivoting.\n",
    "    \"\"\"\n",
    "    N = a.shape[0]\n",
    "    \n",
    "    #Initializing the factors\n",
    "    u = a.copy()\n",
    "    L = np.eye(N)\n",
    "    \n",
    "    for j in range(N-1):\n",
    "        lam = np.eye(N)\n",
    "        \n",
    "        #Creating the vector of gammas\n",
    "        gamma = np.zeros(N-j-1)\n",
    "        for i in range(N-j-1):\n",
    "            gamma[i] = u[j+1+i, j]/u[j, j]\n",
    "        \n",
    "        #Creating matrix \\Lambda_i\n",
    "        for i in range(N-j-1):\n",
    "            lam[j+1+i, j] = -gamma[i]\n",
    "        \n",
    "        #Acting with \\Lambda_i on A to get U\n",
    "        u_new = np.zeros((N, N))\n",
    "        for ind_i in range(N):\n",
    "            for ind_j in range(N):\n",
    "                for ind_k in range(N):\n",
    "                    u_new[ind_i, ind_j] += lam[ind_i, ind_k] * u[ind_k, ind_j]\n",
    "        u = u_new.copy()\n",
    "        \n",
    "        #Creating matrix \\Lambda_i^{-1}\n",
    "        for i in range(N-j-1):\n",
    "            lam[j+1+i, j] = gamma[i]\n",
    "            \n",
    "        #Multiplying L and \\Lambda_i^{-1} o get new L\n",
    "        L_new = np.zeros((N, N))\n",
    "        for ind_i in range(N):\n",
    "            for ind_j in range(N):\n",
    "                for ind_k in range(N):\n",
    "                    L_new[ind_i, ind_j] += L[ind_i, ind_k] * lam[ind_k, ind_j]\n",
    "        L = L_new.copy()\n",
    "        \n",
    "    return L, u"
   ]
  },
  {
   "cell_type": "code",
   "execution_count": 36,
   "metadata": {},
   "outputs": [
    {
     "data": {
      "text/plain": [
       "6"
      ]
     },
     "execution_count": 36,
     "metadata": {},
     "output_type": "execute_result"
    }
   ],
   "source": [
    "# Now, generate a full rank matrix and test the naive implementation\n",
    "\n",
    "import numpy as np\n",
    "\n",
    "N = 6\n",
    "a = np.zeros((N, N), dtype=float)\n",
    "for i in range(N):\n",
    "    for j in range(N):\n",
    "        a[i, j] = 3. / (0.6*i*j + 1)\n",
    "\n",
    "np.linalg.matrix_rank(a)"
   ]
  },
  {
   "cell_type": "code",
   "execution_count": 37,
   "metadata": {
    "scrolled": false
   },
   "outputs": [
    {
     "name": "stdout",
     "output_type": "stream",
     "text": [
      "[[ 0.000e+00  0.000e+00  0.000e+00  0.000e+00  0.000e+00  0.000e+00]\n",
      " [ 0.000e+00  0.000e+00  0.000e+00  0.000e+00  0.000e+00  0.000e+00]\n",
      " [ 0.000e+00  0.000e+00  0.000e+00  2.220e-16 -1.110e-16 -1.665e-16]\n",
      " [ 0.000e+00  0.000e+00  2.220e-16 -5.551e-17 -1.665e-16 -1.665e-16]\n",
      " [ 0.000e+00  0.000e+00 -1.110e-16 -3.886e-16  3.886e-16 -1.665e-16]\n",
      " [ 0.000e+00  0.000e+00 -1.665e-16 -1.665e-16 -1.665e-16  0.000e+00]]\n"
     ]
    }
   ],
   "source": [
    "L, u = diy_lu_ext(a)\n",
    "print(L@u - a)"
   ]
  },
  {
   "cell_type": "markdown",
   "metadata": {},
   "source": [
    "LU can be programmed in a more simple way by using the perks of `numpy`."
   ]
  },
  {
   "cell_type": "code",
   "execution_count": 38,
   "metadata": {},
   "outputs": [],
   "source": [
    "import numpy as np\n",
    "\n",
    "def diy_lu(a):\n",
    "    \"\"\"\n",
    "    Construct the LU decomposition of the input matrix.\n",
    "    \n",
    "    Naive LU decomposition: work column by column, accumulate elementary triangular matrices.\n",
    "    No pivoting.\n",
    "    \"\"\"\n",
    "    N = a.shape[0]\n",
    "    \n",
    "    u = a.copy()\n",
    "    L = np.eye(N)\n",
    "    for j in range(N-1):\n",
    "        lam = np.eye(N)\n",
    "        \n",
    "        #Creating the vector of gammas\n",
    "        gamma = u[j+1:, j] / u[j, j]\n",
    "        \n",
    "        #Creating matrix \\Lambda_i\n",
    "        lam[j+1:, j] = -gamma\n",
    "        \n",
    "        \n",
    "        #Acting with \\Lambda_i on A to get U\n",
    "        u = lam @ u\n",
    "        \n",
    "        \n",
    "        #Creating matrix \\Lambda_i^{-1}\n",
    "        lam[j+1:, j] = gamma\n",
    "            \n",
    "        #Multiplying L and \\Lambda_i^{-1} o get new L\n",
    "        L = L @ lam\n",
    "    return L, u"
   ]
  },
  {
   "cell_type": "code",
   "execution_count": 39,
   "metadata": {},
   "outputs": [],
   "source": [
    "# Tweak the printing of floating-point numbers, for clarity\n",
    "np.set_printoptions(precision=3)"
   ]
  },
  {
   "cell_type": "code",
   "execution_count": 40,
   "metadata": {},
   "outputs": [
    {
     "name": "stdout",
     "output_type": "stream",
     "text": [
      "[[1.    0.    0.    0.    0.    0.   ]\n",
      " [1.    1.    0.    0.    0.    0.   ]\n",
      " [1.    1.455 1.    0.    0.    0.   ]\n",
      " [1.    1.714 1.742 1.    0.    0.   ]\n",
      " [1.    1.882 2.276 2.039 1.    0.   ]\n",
      " [1.    2.    2.671 2.944 2.354 1.   ]] \n",
      "\n",
      "[[ 3.000e+00  3.000e+00  3.000e+00  3.000e+00  3.000e+00  3.000e+00]\n",
      " [ 0.000e+00 -1.125e+00 -1.636e+00 -1.929e+00 -2.118e+00 -2.250e+00]\n",
      " [ 0.000e+00  0.000e+00  2.625e-01  4.574e-01  5.975e-01  7.013e-01]\n",
      " [ 0.000e+00  2.220e-16  0.000e+00 -2.197e-02 -4.480e-02 -6.469e-02]\n",
      " [ 0.000e+00 -4.528e-16  0.000e+00  6.939e-18  8.080e-04  1.902e-03]\n",
      " [ 0.000e+00  4.123e-16  0.000e+00 -1.634e-17  0.000e+00 -1.585e-05]] \n",
      "\n",
      "[[ 0.000e+00  0.000e+00  0.000e+00  0.000e+00  0.000e+00  0.000e+00]\n",
      " [ 0.000e+00  0.000e+00  0.000e+00  0.000e+00  0.000e+00  0.000e+00]\n",
      " [ 0.000e+00  0.000e+00  0.000e+00  2.220e-16 -1.110e-16 -1.665e-16]\n",
      " [ 0.000e+00  0.000e+00  2.220e-16 -5.551e-17 -1.665e-16 -1.665e-16]\n",
      " [ 0.000e+00  0.000e+00 -1.110e-16 -3.886e-16  3.886e-16 -1.665e-16]\n",
      " [ 0.000e+00  0.000e+00 -1.665e-16 -1.665e-16 -1.665e-16  0.000e+00]]\n"
     ]
    }
   ],
   "source": [
    "L, u = diy_lu(a)\n",
    "\n",
    "print(L, \"\\n\")\n",
    "print(u, \"\\n\")\n",
    "\n",
    "# Quick sanity check: L times U must equal the original matrix, up to floating-point errors.\n",
    "print(L@u - a)"
   ]
  },
  {
   "cell_type": "markdown",
   "metadata": {},
   "source": [
    "# II. The need for pivoting"
   ]
  },
  {
   "cell_type": "markdown",
   "metadata": {},
   "source": [
    "Let's tweak the matrix a little bit, we only change a single element:"
   ]
  },
  {
   "cell_type": "code",
   "execution_count": 41,
   "metadata": {},
   "outputs": [],
   "source": [
    "a1 = a.copy()\n",
    "a1[1, 1] = 3"
   ]
  },
  {
   "cell_type": "markdown",
   "metadata": {},
   "source": [
    "Resulting matrix still has full rank, but the naive LU routine breaks down."
   ]
  },
  {
   "cell_type": "code",
   "execution_count": 42,
   "metadata": {},
   "outputs": [
    {
     "data": {
      "text/plain": [
       "6"
      ]
     },
     "execution_count": 42,
     "metadata": {},
     "output_type": "execute_result"
    }
   ],
   "source": [
    "np.linalg.matrix_rank(a1)"
   ]
  },
  {
   "cell_type": "code",
   "execution_count": 43,
   "metadata": {
    "scrolled": false
   },
   "outputs": [
    {
     "name": "stdout",
     "output_type": "stream",
     "text": [
      "[[nan nan nan nan nan nan]\n",
      " [nan nan nan nan nan nan]\n",
      " [nan nan nan nan nan nan]\n",
      " [nan nan nan nan nan nan]\n",
      " [nan nan nan nan nan nan]\n",
      " [nan nan nan nan nan nan]] [[nan nan nan nan nan nan]\n",
      " [nan nan nan nan nan nan]\n",
      " [nan nan nan nan nan nan]\n",
      " [nan nan nan nan nan nan]\n",
      " [nan nan nan nan nan nan]\n",
      " [nan nan nan nan nan nan]]\n"
     ]
    },
    {
     "name": "stderr",
     "output_type": "stream",
     "text": [
      "/home/liza/.local/lib/python3.5/site-packages/ipykernel_launcher.py:18: RuntimeWarning: divide by zero encountered in true_divide\n",
      "/home/liza/.local/lib/python3.5/site-packages/ipykernel_launcher.py:25: RuntimeWarning: invalid value encountered in matmul\n",
      "/home/liza/.local/lib/python3.5/site-packages/ipykernel_launcher.py:32: RuntimeWarning: invalid value encountered in matmul\n",
      "/home/liza/.local/lib/python3.5/site-packages/ipykernel_launcher.py:18: RuntimeWarning: invalid value encountered in true_divide\n"
     ]
    }
   ],
   "source": [
    "l, u = diy_lu(a1)\n",
    "\n",
    "print(l, u)"
   ]
  },
  {
   "cell_type": "markdown",
   "metadata": {},
   "source": []
  },
  {
   "cell_type": "markdown",
   "metadata": {},
   "source": [
    "### Test II.1\n",
    "\n",
    "For a naive LU decomposition to work, all leading minors of a matrix should be non-zero. Check if this requirement is satisfied for the two matrices `a` and `a1`."
   ]
  },
  {
   "cell_type": "code",
   "execution_count": 44,
   "metadata": {},
   "outputs": [],
   "source": [
    "import sympy\n",
    "from sympy import Matrix"
   ]
  },
  {
   "cell_type": "code",
   "execution_count": 45,
   "metadata": {},
   "outputs": [
    {
     "data": {
      "text/latex": [
       "$\\displaystyle \\left[\\begin{matrix}3.0 & 3.0 & 3.0 & 3.0 & 3.0 & 3.0\\\\3.0 & 1.875 & 1.36363636363636 & 1.07142857142857 & 0.882352941176471 & 0.75\\\\3.0 & 1.36363636363636 & 0.882352941176471 & 0.652173913043478 & 0.517241379310345 & 0.428571428571429\\\\3.0 & 1.07142857142857 & 0.652173913043478 & 0.46875 & 0.365853658536585 & 0.3\\\\3.0 & 0.882352941176471 & 0.517241379310345 & 0.365853658536585 & 0.283018867924528 & 0.230769230769231\\\\3.0 & 0.75 & 0.428571428571429 & 0.3 & 0.230769230769231 & 0.1875\\end{matrix}\\right]$"
      ],
      "text/plain": [
       "Matrix([\n",
       "[3.0,               3.0,               3.0,               3.0,               3.0,               3.0],\n",
       "[3.0,             1.875,  1.36363636363636,  1.07142857142857, 0.882352941176471,              0.75],\n",
       "[3.0,  1.36363636363636, 0.882352941176471, 0.652173913043478, 0.517241379310345, 0.428571428571429],\n",
       "[3.0,  1.07142857142857, 0.652173913043478,           0.46875, 0.365853658536585,               0.3],\n",
       "[3.0, 0.882352941176471, 0.517241379310345, 0.365853658536585, 0.283018867924528, 0.230769230769231],\n",
       "[3.0,              0.75, 0.428571428571429,               0.3, 0.230769230769231,            0.1875]])"
      ]
     },
     "execution_count": 45,
     "metadata": {},
     "output_type": "execute_result"
    }
   ],
   "source": [
    "m = sympy.Matrix(a)\n",
    "m"
   ]
  },
  {
   "cell_type": "code",
   "execution_count": 46,
   "metadata": {},
   "outputs": [],
   "source": [
    "# leading minors\n",
    "def minors(matrix):\n",
    "    result_minors = []\n",
    "    for j in range(len(a)):\n",
    "        for i in range(len(a)):\n",
    "            if j==i:\n",
    "                result_minors.append(m.minorEntry(j,i)) \n",
    "    return result_minors\n",
    "            "
   ]
  },
  {
   "cell_type": "code",
   "execution_count": 47,
   "metadata": {},
   "outputs": [
    {
     "data": {
      "text/plain": [
       "(1,\n",
       " 3.00000000000000,\n",
       " -3.37500000000000,\n",
       " -0.885999027710257,\n",
       " 0.0194670010320019,\n",
       " 1.57289732825071e-5,\n",
       " -2.59116033371563e-10)"
      ]
     },
     "execution_count": 47,
     "metadata": {},
     "output_type": "execute_result"
    }
   ],
   "source": [
    "# for matrix a principal minors\n",
    "m.berkowitz_minors()"
   ]
  },
  {
   "cell_type": "code",
   "execution_count": 48,
   "metadata": {},
   "outputs": [
    {
     "data": {
      "text/plain": [
       "(1,\n",
       " 3.00000000000000,\n",
       " 0,\n",
       " -8.03305785123966,\n",
       " -0.493510106162495,\n",
       " 0.000903014520269169,\n",
       " 2.31734814549328e-8)"
      ]
     },
     "execution_count": 48,
     "metadata": {},
     "output_type": "execute_result"
    }
   ],
   "source": [
    "# for matrix a1 principal minors\n",
    "m1 = sympy.Matrix(a1)\n",
    "m1.berkowitz_minors()"
   ]
  },
  {
   "cell_type": "code",
   "execution_count": 49,
   "metadata": {},
   "outputs": [
    {
     "data": {
      "text/plain": [
       "[7.91046850723931e-14,\n",
       " 2.08293969542529e-8,\n",
       " 4.25862737204843e-6,\n",
       " 5.29684242987418e-5,\n",
       " 8.68863901253511e-5,\n",
       " 1.57289741545937e-5]"
      ]
     },
     "execution_count": 49,
     "metadata": {},
     "output_type": "execute_result"
    }
   ],
   "source": [
    "# for matrix a leading minors\n",
    "minors(m)"
   ]
  },
  {
   "cell_type": "code",
   "execution_count": 50,
   "metadata": {},
   "outputs": [
    {
     "data": {
      "text/latex": [
       "$\\displaystyle \\left[\\begin{matrix}3.0 & 3.0 & 3.0 & 3.0 & 3.0 & 3.0\\\\3.0 & 3.0 & 1.36363636363636 & 1.07142857142857 & 0.882352941176471 & 0.75\\\\3.0 & 1.36363636363636 & 0.882352941176471 & 0.652173913043478 & 0.517241379310345 & 0.428571428571429\\\\3.0 & 1.07142857142857 & 0.652173913043478 & 0.46875 & 0.365853658536585 & 0.3\\\\3.0 & 0.882352941176471 & 0.517241379310345 & 0.365853658536585 & 0.283018867924528 & 0.230769230769231\\\\3.0 & 0.75 & 0.428571428571429 & 0.3 & 0.230769230769231 & 0.1875\\end{matrix}\\right]$"
      ],
      "text/plain": [
       "Matrix([\n",
       "[3.0,               3.0,               3.0,               3.0,               3.0,               3.0],\n",
       "[3.0,               3.0,  1.36363636363636,  1.07142857142857, 0.882352941176471,              0.75],\n",
       "[3.0,  1.36363636363636, 0.882352941176471, 0.652173913043478, 0.517241379310345, 0.428571428571429],\n",
       "[3.0,  1.07142857142857, 0.652173913043478,           0.46875, 0.365853658536585,               0.3],\n",
       "[3.0, 0.882352941176471, 0.517241379310345, 0.365853658536585, 0.283018867924528, 0.230769230769231],\n",
       "[3.0,              0.75, 0.428571428571429,               0.3, 0.230769230769231,            0.1875]])"
      ]
     },
     "execution_count": 50,
     "metadata": {},
     "output_type": "execute_result"
    }
   ],
   "source": [
    "m1 = sympy.Matrix(a1)\n",
    "m1"
   ]
  },
  {
   "cell_type": "code",
   "execution_count": 51,
   "metadata": {},
   "outputs": [
    {
     "data": {
      "text/plain": [
       "[7.91046850723931e-14,\n",
       " 2.08293969542529e-8,\n",
       " 4.25862737204843e-6,\n",
       " 5.29684242987418e-5,\n",
       " 8.68863901253511e-5,\n",
       " 1.57289741545937e-5]"
      ]
     },
     "execution_count": 51,
     "metadata": {},
     "output_type": "execute_result"
    }
   ],
   "source": [
    "# for matrix a1 leading minors\n",
    "minors(m1)"
   ]
  },
  {
   "cell_type": "markdown",
   "metadata": {},
   "source": [
    "###### Вывод: один из угловых миноров для матрицы а1 равен 0, что не позволяет применить LU разложение для этой матрицы."
   ]
  },
  {
   "cell_type": "markdown",
   "metadata": {},
   "source": [
    "### Test II.2\n",
    "\n",
    "Modify the `diy_lu` routine to implement column pivoting. Keep track of pivots, you can either construct a permutation matrix, or a swap array (your choice).\n",
    "\n",
    "Implement a function to reconstruct the original matrix from a decompositon. Test your routines on the matrices `a` and `a1`."
   ]
  },
  {
   "cell_type": "markdown",
   "metadata": {},
   "source": [
    "#### Для матрицы а"
   ]
  },
  {
   "cell_type": "code",
   "execution_count": 52,
   "metadata": {},
   "outputs": [],
   "source": [
    "def diy_lu_pivot(a):\n",
    "    \"\"\"\n",
    "    Construct the LUP decomposition of the input matrix.\n",
    "    \n",
    "    With column pivoting.\n",
    "    \"\"\"\n",
    "    N = a.shape[0]\n",
    "    \n",
    "    u = a.copy()\n",
    "    L = np.eye(N)\n",
    "    piv = np.eye(N)\n",
    "    P = np.eye(N)\n",
    "    for j in range(N-1):\n",
    "        # Pivoting         \n",
    "        max_column_index = np.argmax(abs(u[j:,j]))+j\n",
    "        if max_column_index != j:\n",
    "            u[[max_column_index, j], j:N] = u[[j, max_column_index], j:N]\n",
    "            piv[[max_column_index, j], j:N] = piv[[j, max_column_index], j:N]\n",
    "            P = piv@P\n",
    "            L = piv@L\n",
    "        # Find U   \n",
    "        lam = np.eye(N)\n",
    "        for k in range(j+1, N):\n",
    "            gamma = (u[k, j] / u[j, j])\n",
    "            lam[k, j]  = -gamma\n",
    "            L[k, j] =  gamma       \n",
    "            u = lam @ u          \n",
    "    np.fill_diagonal(L, 1)   \n",
    "    return P, L, u\n",
    "\n"
   ]
  },
  {
   "cell_type": "code",
   "execution_count": 53,
   "metadata": {},
   "outputs": [
    {
     "name": "stdout",
     "output_type": "stream",
     "text": [
      "[[1. 0. 0. 0. 0. 0.]\n",
      " [0. 1. 0. 0. 0. 0.]\n",
      " [0. 0. 1. 0. 0. 0.]\n",
      " [0. 0. 0. 1. 0. 0.]\n",
      " [0. 0. 0. 0. 1. 0.]\n",
      " [0. 0. 0. 0. 0. 1.]] \n",
      " [[ 1.     0.     0.     0.     0.     0.   ]\n",
      " [ 1.     1.     0.     0.     0.     0.   ]\n",
      " [ 1.     0.81   1.     0.     0.     0.   ]\n",
      " [ 1.     0.604  0.495  1.     0.     0.   ]\n",
      " [ 1.     0.39   0.156  0.158  1.     0.   ]\n",
      " [ 1.     0.171 -0.007  0.002 -0.006  1.   ]] \n",
      " [[ 3.000e+00  3.000e+00  3.000e+00  3.000e+00  3.000e+00  3.000e+00]\n",
      " [-1.200e+01 -1.312e+01 -1.364e+01 -1.393e+01 -1.412e+01 -1.425e+01]\n",
      " [ 2.990e+01  3.191e+01  3.309e+01  3.380e+01  3.428e+01  3.462e+01]\n",
      " [-2.862e+01 -3.149e+01 -3.273e+01 -3.345e+01 -3.392e+01 -3.425e+01]\n",
      " [ 6.114e+00  5.158e+00  5.217e+00  5.298e+00  5.363e+00  5.412e+00]\n",
      " [ 2.368e+00  3.257e-01  1.034e-01  3.202e-02  0.000e+00 -1.715e-02]]\n"
     ]
    }
   ],
   "source": [
    "P, L, U = diy_lu_pivot(a)\n",
    "print(P, '\\n', L, '\\n', U)"
   ]
  },
  {
   "cell_type": "code",
   "execution_count": 54,
   "metadata": {},
   "outputs": [
    {
     "name": "stdout",
     "output_type": "stream",
     "text": [
      "[[ 0.000e+00  0.000e+00  0.000e+00  0.000e+00  0.000e+00  0.000e+00]\n",
      " [ 1.200e+01  1.200e+01  1.200e+01  1.200e+01  1.200e+01  1.200e+01]\n",
      " [-2.017e+01 -2.291e+01 -2.415e+01 -2.486e+01 -2.532e+01 -2.564e+01]\n",
      " [ 2.108e+01  2.171e+01  2.225e+01  2.261e+01  2.285e+01  2.303e+01]\n",
      " [-1.557e+00 -2.138e+00 -2.350e+00 -2.466e+00 -2.540e+00 -2.591e+00]\n",
      " [ 0.000e+00  2.220e-16  1.665e-16 -5.551e-17  5.551e-17  0.000e+00]]\n"
     ]
    }
   ],
   "source": [
    "print(P@a-L@U)"
   ]
  },
  {
   "cell_type": "markdown",
   "metadata": {},
   "source": [
    "#### Функция для получения исходной матрицы а: $PA=LU$ отсюда $A=P^{-1}LU$"
   ]
  },
  {
   "cell_type": "code",
   "execution_count": 55,
   "metadata": {},
   "outputs": [],
   "source": [
    "P_inv = np.linalg.inv(P)"
   ]
  },
  {
   "cell_type": "code",
   "execution_count": 56,
   "metadata": {},
   "outputs": [
    {
     "name": "stdout",
     "output_type": "stream",
     "text": [
      "[[ 0.000e+00  0.000e+00  0.000e+00  0.000e+00  0.000e+00  0.000e+00]\n",
      " [ 1.200e+01  1.200e+01  1.200e+01  1.200e+01  1.200e+01  1.200e+01]\n",
      " [-2.017e+01 -2.291e+01 -2.415e+01 -2.486e+01 -2.532e+01 -2.564e+01]\n",
      " [ 2.108e+01  2.171e+01  2.225e+01  2.261e+01  2.285e+01  2.303e+01]\n",
      " [-1.557e+00 -2.138e+00 -2.350e+00 -2.466e+00 -2.540e+00 -2.591e+00]\n",
      " [ 0.000e+00  2.220e-16  1.665e-16 -5.551e-17  5.551e-17  0.000e+00]]\n"
     ]
    }
   ],
   "source": [
    "print(a - P_inv @ L @ U)"
   ]
  },
  {
   "cell_type": "markdown",
   "metadata": {},
   "source": [
    "#### Для матрицы а1"
   ]
  },
  {
   "cell_type": "code",
   "execution_count": 57,
   "metadata": {},
   "outputs": [
    {
     "name": "stdout",
     "output_type": "stream",
     "text": [
      "[[1. 0. 0. 0. 0. 0.]\n",
      " [0. 1. 0. 0. 0. 0.]\n",
      " [0. 0. 1. 0. 0. 0.]\n",
      " [0. 0. 0. 1. 0. 0.]\n",
      " [0. 0. 0. 0. 1. 0.]\n",
      " [0. 0. 0. 0. 0. 1.]] \n",
      " [[ 1.000e+00  0.000e+00  0.000e+00  0.000e+00  0.000e+00  0.000e+00]\n",
      " [ 1.000e+00  1.000e+00  0.000e+00  0.000e+00  0.000e+00  0.000e+00]\n",
      " [ 1.000e+00  8.864e-01  1.000e+00  0.000e+00  0.000e+00  0.000e+00]\n",
      " [ 1.000e+00  6.607e-01  5.018e-01  1.000e+00  0.000e+00  0.000e+00]\n",
      " [ 1.000e+00  4.265e-01  1.651e-01  1.654e-01  1.000e+00  0.000e+00]\n",
      " [ 1.000e+00  1.875e-01 -3.924e-04  1.924e-03 -5.089e-03  1.000e+00]] \n",
      " [[ 3.000e+00  3.000e+00  3.000e+00  3.000e+00  3.000e+00  3.000e+00]\n",
      " [-1.200e+01 -1.200e+01 -1.364e+01 -1.393e+01 -1.412e+01 -1.425e+01]\n",
      " [ 3.355e+01  3.191e+01  3.723e+01  3.804e+01  3.857e+01  3.895e+01]\n",
      " [-3.271e+01 -3.218e+01 -3.736e+01 -3.818e+01 -3.871e+01 -3.909e+01]\n",
      " [ 6.980e+00  5.226e+00  6.214e+00  6.317e+00  6.395e+00  6.454e+00]\n",
      " [ 2.362e+00  1.010e-01  1.035e-01  3.214e-02  0.000e+00 -1.728e-02]]\n"
     ]
    }
   ],
   "source": [
    "P1, L1, U1 = diy_lu_pivot(a1)\n",
    "print(P1, '\\n', L1, '\\n', U1)"
   ]
  },
  {
   "cell_type": "markdown",
   "metadata": {},
   "source": [
    "#### Функция для получения исходной матрицы а: $PA=LU$ отсюда $A=P^{-1}LU$"
   ]
  },
  {
   "cell_type": "code",
   "execution_count": 58,
   "metadata": {},
   "outputs": [],
   "source": [
    "P1_inv = np.linalg.inv(P1)"
   ]
  },
  {
   "cell_type": "code",
   "execution_count": 59,
   "metadata": {},
   "outputs": [
    {
     "name": "stdout",
     "output_type": "stream",
     "text": [
      "[[ 0.000e+00  0.000e+00  0.000e+00  0.000e+00  0.000e+00  0.000e+00]\n",
      " [ 1.200e+01  1.088e+01  1.200e+01  1.200e+01  1.200e+01  1.200e+01]\n",
      " [-2.291e+01 -2.291e+01 -2.726e+01 -2.804e+01 -2.854e+01 -2.889e+01]\n",
      " [ 2.381e+01  2.217e+01  2.534e+01  2.577e+01  2.605e+01  2.626e+01]\n",
      " [-1.990e+00 -2.172e+00 -2.849e+00 -2.975e+00 -3.056e+00 -3.112e+00]\n",
      " [ 0.000e+00 -1.110e-16  1.665e-16  2.776e-16 -2.776e-17  0.000e+00]]\n"
     ]
    }
   ],
   "source": [
    "print(a - P1_inv @ L1 @ U1)"
   ]
  },
  {
   "cell_type": "markdown",
   "metadata": {},
   "source": [
    "### Scipy"
   ]
  },
  {
   "cell_type": "code",
   "execution_count": 60,
   "metadata": {},
   "outputs": [
    {
     "name": "stdout",
     "output_type": "stream",
     "text": [
      "[[1. 0. 0. 0. 0. 0.]\n",
      " [0. 0. 1. 0. 0. 0.]\n",
      " [0. 0. 0. 1. 0. 0.]\n",
      " [0. 0. 0. 0. 1. 0.]\n",
      " [0. 0. 0. 0. 0. 1.]\n",
      " [0. 1. 0. 0. 0. 0.]] \n",
      "\n",
      "[[ 3.000e+00  3.000e+00  3.000e+00  3.000e+00  3.000e+00  3.000e+00]\n",
      " [ 0.000e+00 -2.250e+00 -2.571e+00 -2.700e+00 -2.769e+00 -2.812e+00]\n",
      " [ 0.000e+00  0.000e+00 -3.506e-01 -5.786e-01 -7.330e-01 -8.438e-01]\n",
      " [ 0.000e+00  0.000e+00  0.000e+00  2.421e-02  4.866e-02  6.961e-02]\n",
      " [ 0.000e+00  0.000e+00  0.000e+00  0.000e+00 -6.462e-04 -1.516e-03]\n",
      " [ 0.000e+00  0.000e+00  0.000e+00  0.000e+00  0.000e+00  6.730e-06]] \n",
      "\n",
      "[[1.    0.    0.    0.    0.    0.   ]\n",
      " [1.    1.    0.    0.    0.    0.   ]\n",
      " [1.    0.5   1.    0.    0.    0.   ]\n",
      " [1.    0.727 0.706 1.    0.    0.   ]\n",
      " [1.    0.857 0.41  0.835 1.    0.   ]\n",
      " [1.    0.941 0.178 0.426 0.789 1.   ]] \n",
      "\n"
     ]
    }
   ],
   "source": [
    "import scipy\n",
    "from scipy import linalg\n",
    "P_sp, L_sp, U_sp = scipy.linalg.lu(a)\n",
    "print(P_sp, \"\\n\")\n",
    "print(U_sp, \"\\n\")\n",
    "print(L_sp, \"\\n\")"
   ]
  },
  {
   "cell_type": "code",
   "execution_count": 61,
   "metadata": {},
   "outputs": [
    {
     "name": "stdout",
     "output_type": "stream",
     "text": [
      "[[1. 0. 0. 0. 0. 0.]\n",
      " [0. 0. 1. 0. 0. 0.]\n",
      " [0. 0. 0. 1. 0. 0.]\n",
      " [0. 0. 0. 0. 1. 0.]\n",
      " [0. 0. 0. 0. 0. 1.]\n",
      " [0. 1. 0. 0. 0. 0.]] \n",
      "\n",
      "[[ 3.000e+00  3.000e+00  3.000e+00  3.000e+00  3.000e+00  3.000e+00]\n",
      " [ 0.000e+00 -2.250e+00 -2.571e+00 -2.700e+00 -2.769e+00 -2.812e+00]\n",
      " [ 0.000e+00  0.000e+00 -1.636e+00 -1.929e+00 -2.118e+00 -2.250e+00]\n",
      " [ 0.000e+00  0.000e+00  0.000e+00 -9.247e-02 -1.485e-01 -1.856e-01]\n",
      " [ 0.000e+00  0.000e+00  0.000e+00  0.000e+00  1.841e-03  3.821e-03]\n",
      " [ 0.000e+00  0.000e+00  0.000e+00  0.000e+00  0.000e+00 -1.233e-05]] \n",
      "\n",
      "[[ 1.     0.     0.     0.     0.     0.   ]\n",
      " [ 1.     1.     0.     0.     0.     0.   ]\n",
      " [ 1.    -0.     1.     0.     0.     0.   ]\n",
      " [ 1.     0.727  0.151  1.     0.     0.   ]\n",
      " [ 1.     0.857  0.088  0.514  1.     0.   ]\n",
      " [ 1.     0.941  0.038  0.208  0.641  1.   ]] \n",
      "\n"
     ]
    }
   ],
   "source": [
    "P1_sp, L1_sp, U1_sp = scipy.linalg.lu(a1)\n",
    "print(P1_sp, \"\\n\")\n",
    "print(U1_sp, \"\\n\")\n",
    "print(L1_sp, \"\\n\")"
   ]
  },
  {
   "cell_type": "markdown",
   "metadata": {},
   "source": [
    "Sum all elements in matrix `L1` and `u1` separately (for Google Form)."
   ]
  },
  {
   "cell_type": "code",
   "execution_count": 62,
   "metadata": {},
   "outputs": [
    {
     "name": "stdout",
     "output_type": "stream",
     "text": [
      "13.989868619883875\n"
     ]
    }
   ],
   "source": [
    "# for L1\n",
    "sum_L1 = 0\n",
    "for i in range(len(L1)):\n",
    "    for j in range(len(L1)):\n",
    "        sum_L1 += L1[i][j]\n",
    "print(sum_L1)\n",
    "        "
   ]
  },
  {
   "cell_type": "code",
   "execution_count": 63,
   "metadata": {},
   "outputs": [
    {
     "name": "stdout",
     "output_type": "stream",
     "text": [
      "-21.763141744694217\n"
     ]
    }
   ],
   "source": [
    "# for u1\n",
    "sum_U1 = 0\n",
    "for i in range(len(U1)):\n",
    "    for j in range(len(U1)):\n",
    "        sum_U1 += U1[i][j]\n",
    "print(sum_U1)"
   ]
  },
  {
   "cell_type": "code",
   "execution_count": 64,
   "metadata": {},
   "outputs": [
    {
     "name": "stdout",
     "output_type": "stream",
     "text": [
      "15.166249240140331\n"
     ]
    }
   ],
   "source": [
    "# for L1_sp\n",
    "sum_L1 = 0\n",
    "for i in range(len(L1_sp)):\n",
    "    for j in range(len(L1_sp)):\n",
    "        sum_L1 += L1_sp[i][j]\n",
    "print(sum_L1)"
   ]
  },
  {
   "cell_type": "code",
   "execution_count": 65,
   "metadata": {},
   "outputs": [
    {
     "name": "stdout",
     "output_type": "stream",
     "text": [
      "-3.456659008328081\n"
     ]
    }
   ],
   "source": [
    "# for U1_sp\n",
    "sum_U1 = 0\n",
    "for i in range(len(U1_sp)):\n",
    "    for j in range(len(U1_sp)):\n",
    "        sum_U1 += U1_sp[i][j]\n",
    "print(sum_U1)"
   ]
  },
  {
   "cell_type": "markdown",
   "metadata": {},
   "source": [
    "###### Вывод: в моем алгоритме где-то ошибка, но найти ее я не смогла(("
   ]
  },
  {
   "cell_type": "code",
   "execution_count": null,
   "metadata": {},
   "outputs": [],
   "source": []
  }
 ],
 "metadata": {
  "kernelspec": {
   "display_name": "Python 3",
   "language": "python",
   "name": "python3"
  },
  "language_info": {
   "codemirror_mode": {
    "name": "ipython",
    "version": 3
   },
   "file_extension": ".py",
   "mimetype": "text/x-python",
   "name": "python",
   "nbconvert_exporter": "python",
   "pygments_lexer": "ipython3",
   "version": "3.5.2"
  }
 },
 "nbformat": 4,
 "nbformat_minor": 2
}
