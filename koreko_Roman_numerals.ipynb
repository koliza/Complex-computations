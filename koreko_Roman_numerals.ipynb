{
 "cells": [
  {
   "cell_type": "markdown",
   "metadata": {},
   "source": [
    "# Roman numerals"
   ]
  },
  {
   "cell_type": "markdown",
   "metadata": {},
   "source": [
    "## I. Roman numerals to decimals\n",
    "\n",
    "Write a function which receives a Roman numeral written out as a string, and returns an integer representing the decimal form of the input number. "
   ]
  },
  {
   "cell_type": "code",
   "execution_count": 2,
   "metadata": {
    "collapsed": false
   },
   "outputs": [],
   "source": [
    "mapping = [{'letter':'M','value' : 1000},\n",
    "           {'letter':'D', 'value' : 500},\n",
    "           {'letter':'C','value' : 100},\n",
    "           {'letter':'L','value' : 50},\n",
    "           {'letter':'X','value' : 10},\n",
    "           {'letter':'V','value' : 5},\n",
    "           {'letter':'I','value' : 1}]\n",
    "t = ('M,D,C,L,X,V,I'.split(','))\n",
    "s = (r for r in range (len(t)))\n",
    "seq_number = dict(zip(t,s))"
   ]
  },
  {
   "cell_type": "code",
   "execution_count": 3,
   "metadata": {
    "collapsed": false
   },
   "outputs": [
    {
     "name": "stdout",
     "output_type": "stream",
     "text": [
      "Please, input Roman number: x\n",
      "Please, input Decimal number: 11\n"
     ]
    }
   ],
   "source": [
    "rimskie = str(input(\"Please, input Roman number: \"))\n",
    "dec_input = int(input(\"Please, input Decimal number: \"))\n",
    "rom = rimskie.upper()"
   ]
  },
  {
   "cell_type": "code",
   "execution_count": 4,
   "metadata": {
    "collapsed": false
   },
   "outputs": [
    {
     "name": "stdout",
     "output_type": "stream",
     "text": [
      "Decimal number: 10\n"
     ]
    }
   ],
   "source": [
    "def roman_to_decimal(rom):\n",
    "    \"\"\"Convert a Roman numeral to decimal.\n",
    "    \n",
    "    Parameters\n",
    "    ----------\n",
    "    rom : str\n",
    "        A Roman numeral representing a positive integer.\n",
    "        \n",
    "    Returns\n",
    "    -------\n",
    "    dec : int\n",
    "        The result of conversion of `rom` into a decimal system.\n",
    "    \"\"\"\n",
    "    dec = 0\n",
    "    previous = None\n",
    "    for bukv in reversed(rom):\n",
    "        # Create g which is equal to sequence Roman number dictionary\n",
    "        g = seq_number[bukv]\n",
    "        # Create decimal which is equal to Roman number dictionary\n",
    "        decimal = mapping [g]['value']\n",
    "        if (previous is None) or (previous <= decimal):\n",
    "            dec += decimal\n",
    "        else:\n",
    "            dec -= decimal\n",
    "        previous = decimal \n",
    "    return dec\n",
    "print ('Decimal number:', roman_to_decimal(rom))"
   ]
  },
  {
   "cell_type": "markdown",
   "metadata": {},
   "source": [
    "Here are some tests for you to test your code. Your code must pass all of them. You also need to come up with several more tests (your choice)."
   ]
  },
  {
   "cell_type": "code",
   "execution_count": 5,
   "metadata": {
    "collapsed": false
   },
   "outputs": [
    {
     "name": "stdout",
     "output_type": "stream",
     "text": [
      "True\n",
      "True\n",
      "True\n",
      "True\n",
      "True\n"
     ]
    }
   ],
   "source": [
    "test_pairs = [(\"IX\", 9), (\"XI\", 11), (\"MCCII\", 1202), (\"MMXVIII\", 2018), (\"XLIX\", 49)]\n",
    "\n",
    "for rom, dec in test_pairs:\n",
    "    converted = roman_to_decimal(rom)\n",
    "    print(converted == dec)"
   ]
  },
  {
   "cell_type": "markdown",
   "metadata": {},
   "source": [
    "## II. Decimal numbers to roman numerals.\n",
    "\n",
    "The maximum grade for first task (Roman to decimal) is 7 on the 10-point HSE scale. For extra credit, complete the second task: *given a decimal number, convert it to the Roman form*."
   ]
  },
  {
   "cell_type": "code",
   "execution_count": 6,
   "metadata": {
    "collapsed": false
   },
   "outputs": [
    {
     "name": "stdout",
     "output_type": "stream",
     "text": [
      "Roman number: XI\n"
     ]
    }
   ],
   "source": [
    "def decimal_to_roman(dec_input):\n",
    "    \"\"\"Convert a decimal to the Roman form.\n",
    "    \n",
    "    Parameters\n",
    "    ----------\n",
    "    dec : int\n",
    "        A positive integer number\n",
    "    \n",
    "    Returns\n",
    "    -------\n",
    "    rom : str\n",
    "        A string representation of a Roman numeral form of `dec`.\n",
    "    \"\"\"\n",
    "    rom1 = ''\n",
    "    # Create loop in mapping \n",
    "    for x in range(len(mapping)):\n",
    "        # In loop using floor division and modulus division to reduce decimal number and sum resulting Roman numbers\n",
    "        rom1 += dec_input//mapping[x]['value']*mapping[x]['letter']\n",
    "        dec_input %= mapping[x]['value']\n",
    "    return rom1\n",
    "print('Roman number:', decimal_to_roman(dec_input))"
   ]
  },
  {
   "cell_type": "markdown",
   "metadata": {},
   "source": [
    "You need to come up with test cases to show that your conversion works as expected. \n",
    "NB: the conversion is ambiguous in some cases. Any valid conversion is accepted. "
   ]
  },
  {
   "cell_type": "code",
   "execution_count": 7,
   "metadata": {
    "collapsed": false
   },
   "outputs": [
    {
     "name": "stdout",
     "output_type": "stream",
     "text": [
      "True\n",
      "True\n",
      "True\n",
      "True\n",
      "True\n"
     ]
    }
   ],
   "source": [
    "test_pairs = [(\"LV\", 55), (\"XI\", 11), (\"MCCII\", 1202), (\"MMXVIII\", 2018), (\"XXXV\", 35)]\n",
    "\n",
    "for rom, dec_input in test_pairs:\n",
    "    converted = decimal_to_roman(dec_input)\n",
    "    print(converted == rom)"
   ]
  },
  {
   "cell_type": "code",
   "execution_count": null,
   "metadata": {
    "collapsed": true
   },
   "outputs": [],
   "source": []
  }
 ],
 "metadata": {
  "kernelspec": {
   "display_name": "Python 3",
   "language": "python",
   "name": "python3"
  },
  "language_info": {
   "codemirror_mode": {
    "name": "ipython",
    "version": 3
   },
   "file_extension": ".py",
   "mimetype": "text/x-python",
   "name": "python",
   "nbconvert_exporter": "python",
   "pygments_lexer": "ipython3",
   "version": "3.3.5"
  }
 },
 "nbformat": 4,
 "nbformat_minor": 2
}
