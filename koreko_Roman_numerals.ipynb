{
 "cells": [
  {
   "cell_type": "markdown",
   "metadata": {},
   "source": [
    "# Roman numerals"
   ]
  },
  {
   "cell_type": "markdown",
   "metadata": {},
   "source": [
    "## I. Roman numerals to decimals\n",
    "\n",
    "Write a function which receives a Roman numeral written out as a string, and returns an integer representing the decimal form of the input number. "
   ]
  },
  {
   "cell_type": "code",
   "execution_count": 2,
   "metadata": {},
   "outputs": [],
   "source": [
    "mapping = [{'letter':'M','value' : 1000},\n",
    "           {'letter':'D', 'value' : 500},\n",
    "           {'letter':'C','value' : 100},\n",
    "           {'letter':'L','value' : 50},\n",
    "           {'letter':'X','value' : 10},\n",
    "           {'letter':'V','value' : 5},\n",
    "           {'letter':'I','value' : 1}]\n",
    "t = ('M,D,C,L,X,V,I'.split(','))\n",
    "s = (r for r in range (len(t)))\n",
    "seq_number = dict(zip(t,s))"
   ]
  },
  {
   "cell_type": "code",
   "execution_count": 3,
   "metadata": {},
   "outputs": [],
   "source": [
    "def roman_to_decimal(rom):\n",
    "    \"\"\"Convert a Roman numeral to decimal.\n",
    "    \n",
    "    Parameters\n",
    "    ----------\n",
    "    rom : str\n",
    "        A Roman numeral representing a positive integer.\n",
    "        \n",
    "    Returns\n",
    "    -------\n",
    "    dec : int\n",
    "        The result of conversion of `rom` into a decimal system.\n",
    "    \"\"\"\n",
    "    dec = 0\n",
    "    previous = None\n",
    "    for bukv in reversed(rom):\n",
    "        # Create g which is equal to sequence Roman number dictionary\n",
    "        g = seq_number[bukv]\n",
    "        # Create decimal which is equal to Roman number dictionary\n",
    "        decimal = mapping [g]['value']\n",
    "        if (previous is None) or (previous <= decimal):\n",
    "            dec += decimal\n",
    "        else:\n",
    "            dec -= decimal\n",
    "        previous = decimal \n",
    "    return dec\n"
   ]
  },
  {
   "cell_type": "markdown",
   "metadata": {},
   "source": [
    "Here are some tests for you to test your code. Your code must pass all of them. You also need to come up with several more tests (your choice)."
   ]
  },
  {
   "cell_type": "code",
   "execution_count": 4,
   "metadata": {},
   "outputs": [
    {
     "name": "stdout",
     "output_type": "stream",
     "text": [
      "True\n",
      "True\n",
      "True\n",
      "True\n",
      "True\n"
     ]
    }
   ],
   "source": [
    "test_pairs = [(\"IX\", 9), (\"XI\", 11), (\"MCCII\", 1202), (\"MMXVIII\", 2018), (\"XLIX\", 49)]\n",
    "\n",
    "for rom, dec in test_pairs:\n",
    "    converted = roman_to_decimal(rom)\n",
    "    print(converted == dec)"
   ]
  },
  {
   "cell_type": "code",
   "execution_count": 5,
   "metadata": {},
   "outputs": [
    {
     "name": "stderr",
     "output_type": "stream",
     "text": [
      "test_first (__main__.Test) ... /home/liza/.local/lib/python3.5/site-packages/ipykernel_launcher.py:5: DeprecationWarning: Please use assertEqual instead.\n",
      "  \"\"\"\n",
      "ok\n",
      "test_five (__main__.Test) ... ok\n",
      "test_fourth (__main__.Test) ... ok\n",
      "test_second (__main__.Test) ... ok\n",
      "test_third (__main__.Test) ... ok\n",
      "\n",
      "----------------------------------------------------------------------\n",
      "Ran 5 tests in 0.049s\n",
      "\n",
      "OK\n"
     ]
    },
    {
     "data": {
      "text/plain": [
       "<unittest.main.TestProgram at 0x7fe3b0c2d390>"
      ]
     },
     "execution_count": 5,
     "metadata": {},
     "output_type": "execute_result"
    }
   ],
   "source": [
    "import unittest\n",
    "\n",
    "class Test(unittest.TestCase):\n",
    "    def test_first(self):\n",
    "        self.assertEquals(roman_to_decimal('VI'),6,)\n",
    "\n",
    "    def test_second(self):\n",
    "        self.assertEquals(roman_to_decimal('LXXVI'), 76,)\n",
    "\n",
    "    def test_third(self):\n",
    "        self.assertEquals(roman_to_decimal('CDXCIX'), 499,)\n",
    "\n",
    "    def test_fourth(self):\n",
    "        self.assertEquals(roman_to_decimal('MMMDCCCLXXXVIII'), 3888,)\n",
    "        \n",
    "    def test_five(self):\n",
    "        self.assertEquals(roman_to_decimal(\"MMXIX\"), 2019,)\n",
    "\n",
    "\n",
    "unittest.main(argv=[''], verbosity=2, exit=False)"
   ]
  },
  {
   "cell_type": "markdown",
   "metadata": {},
   "source": [
    "Now you can run tests in file `tests_roman_to_decimal.txt`. You need to insert a number of false results and listed false results in respective fields in Google Form for this lesson."
   ]
  },
  {
   "cell_type": "code",
   "execution_count": 16,
   "metadata": {},
   "outputs": [],
   "source": [
    "p_roman = \"tests_roman_to_decimal.txt\"\n",
    "with open(p_roman, \"rb\") as fp_roman:\n",
    "    lines_roman=fp_roman.readlines()\n",
    "\n",
    "test_data_roman = [line.strip().decode(\"ascii\").split(',') for line in lines_roman]\n",
    "test_data_roman = [(line[0], int(line[1])) for line in test_data_roman]\n",
    "#print(test_data_roman)"
   ]
  },
  {
   "cell_type": "code",
   "execution_count": 31,
   "metadata": {},
   "outputs": [
    {
     "name": "stdout",
     "output_type": "stream",
     "text": [
      "converted: 1248 decimal: 1246 roman: MCCXLVIII False\n",
      "converted: 1270 decimal: 1273 roman: MCCLXX False\n",
      "converted: 1710 decimal: 1708 roman: MDCCX False\n",
      "converted: 84 decimal: 81 roman: LXXXIV False\n",
      "converted: 797 decimal: 799 roman: DCCXCVII False\n",
      "converted: 429 decimal: 430 roman: CDXXIX False\n",
      "converted: 1791 decimal: 1790 roman: MDCCXCI False\n"
     ]
    }
   ],
   "source": [
    "for rom, dec in test_data_roman:\n",
    "    converted = roman_to_decimal(rom)\n",
    "    #print(converted == dec)\n",
    "    if converted!=dec:\n",
    "        print('converted:', converted,\"decimal:\", dec, 'roman:', rom, converted==dec)\n",
    "    "
   ]
  },
  {
   "cell_type": "markdown",
   "metadata": {},
   "source": [
    "## II. Decimal numbers to roman numerals.\n",
    "\n",
    "The maximum grade for first task (Roman to decimal) is 7 on the 10-point HSE scale. For extra credit, complete the second task: *given a decimal number, convert it to the Roman form*."
   ]
  },
  {
   "cell_type": "code",
   "execution_count": 17,
   "metadata": {},
   "outputs": [],
   "source": [
    "def decimal_to_roman(dec):\n",
    "    \"\"\"Convert a decimal to the Roman form.\n",
    "    \n",
    "    Parameters\n",
    "    ----------\n",
    "    dec : int\n",
    "        A positive integer number\n",
    "    \n",
    "    Returns\n",
    "    -------\n",
    "    rom : str\n",
    "        A string representation of a Roman numeral form of `dec`.\n",
    "    \"\"\"\n",
    "    ones = [\"\",\"I\",\"II\",\"III\",\"IV\",\"V\",\"VI\",\"VII\",\"VIII\",\"IX\"]\n",
    "    tens = [\"\",\"X\",\"XX\",\"XXX\",\"XL\",\"L\",\"LX\",\"LXX\",\"LXXX\",\"XC\"]\n",
    "    hunds = [\"\",\"C\",\"CC\",\"CCC\",\"CD\",\"D\",\"DC\",\"DCC\",\"DCCC\",\"CM\"]\n",
    "    thous = [\"\",\"M\",\"MM\",\"MMM\",\"MMMM\"]\n",
    "    \n",
    "    t = thous[dec // 1000]\n",
    "    h = hunds[dec // 100 % 10]\n",
    "    te = tens[dec // 10 % 10]\n",
    "    o =  ones[dec % 10]\n",
    "    \n",
    "    return t+h+te+o"
   ]
  },
  {
   "cell_type": "markdown",
   "metadata": {},
   "source": [
    "You need to come up with test cases to show that your conversion works as expected. \n",
    "NB: the conversion is ambiguous in some cases. Any valid conversion is accepted. "
   ]
  },
  {
   "cell_type": "code",
   "execution_count": 24,
   "metadata": {},
   "outputs": [
    {
     "name": "stderr",
     "output_type": "stream",
     "text": [
      "test_first (__main__.Test) ... /home/liza/.local/lib/python3.5/site-packages/ipykernel_launcher.py:5: DeprecationWarning: Please use assertEqual instead.\n",
      "  \"\"\"\n",
      "ok\n",
      "test_five (__main__.Test) ... ok\n",
      "test_fourth (__main__.Test) ... ok\n",
      "test_second (__main__.Test) ... ok\n",
      "test_third (__main__.Test) ... ok\n",
      "\n",
      "----------------------------------------------------------------------\n",
      "Ran 5 tests in 0.016s\n",
      "\n",
      "OK\n"
     ]
    }
   ],
   "source": [
    "import unittest\n",
    "\n",
    "class Test(unittest.TestCase):\n",
    "    def test_first(self):\n",
    "        self.assertEquals(decimal_to_roman(6), 'VI',)\n",
    "\n",
    "    def test_second(self):\n",
    "        self.assertEquals(decimal_to_roman(76), 'LXXVI',)\n",
    "\n",
    "    def test_third(self):\n",
    "        self.assertEquals(decimal_to_roman(499), 'CDXCIX',)\n",
    "\n",
    "    def test_fourth(self):\n",
    "        self.assertEquals(decimal_to_roman(3888), 'MMMDCCCLXXXVIII',)\n",
    "        \n",
    "    def test_five(self):\n",
    "        self.assertEquals(decimal_to_roman(2019), 'MMXIX',)\n",
    "    \n",
    "    unittest.main(argv=[''], verbosity=2, exit=False)"
   ]
  },
  {
   "cell_type": "markdown",
   "metadata": {},
   "source": [
    "Now you can run tests in file `tests_decimal_to_roman.txt`. You need to insert a number of false results and listed false results in respective fields in Google Form for this lesson."
   ]
  },
  {
   "cell_type": "code",
   "execution_count": 30,
   "metadata": {},
   "outputs": [
    {
     "name": "stdout",
     "output_type": "stream",
     "text": [
      "converted: MDCCCLXXXVI decimal: 1886 roman: MDCCCLXXXVIII False\n",
      "converted: CMLXXVIII decimal: 978 roman: CMLXXV False\n",
      "converted: MDCCCXLI decimal: 1841 roman: MDCCCXLIV False\n",
      "converted: MDCCCIV decimal: 1804 roman: MDCCCIII False\n",
      "converted: MDCCCVII decimal: 1807 roman: MDCCCVIII False\n",
      "converted: MCMLXXV decimal: 1975 roman: MCMLXXVI False\n"
     ]
    }
   ],
   "source": [
    "p_decimal = \"tests_decimal_to_roman.txt\"\n",
    "with open(p_decimal, \"rb\") as fp_decimal:\n",
    "    lines_decimal=fp_decimal.readlines()\n",
    "\n",
    "test_data_decimal = [line.strip().decode(\"ascii\").split(',') for line in lines_decimal]\n",
    "test_data_decimal = [(line[0], int(line[1])) for line in test_data_decimal]\n",
    "#print(test_data_decimal)\n",
    "for rom, dec in test_data_decimal:\n",
    "    converted = decimal_to_roman(dec)\n",
    "    #print(converted == rom)\n",
    "    if converted!=rom:\n",
    "        print('converted:', converted,\"decimal:\", dec, 'roman:', rom, converted==rom)\n",
    "    "
   ]
  },
  {
   "cell_type": "code",
   "execution_count": null,
   "metadata": {},
   "outputs": [],
   "source": []
  }
 ],
 "metadata": {
  "kernelspec": {
   "display_name": "Python 3",
   "language": "python",
   "name": "python3"
  },
  "language_info": {
   "codemirror_mode": {
    "name": "ipython",
    "version": 3
   },
   "file_extension": ".py",
   "mimetype": "text/x-python",
   "name": "python",
   "nbconvert_exporter": "python",
   "pygments_lexer": "ipython3",
   "version": "3.5.2"
  }
 },
 "nbformat": 4,
 "nbformat_minor": 2
}
