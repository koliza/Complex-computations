{
 "cells": [
  {
   "cell_type": "markdown",
   "metadata": {},
   "source": [
    "# I. Generate all lattice walks, 2D square lattice"
   ]
  },
  {
   "cell_type": "code",
   "execution_count": 1,
   "metadata": {},
   "outputs": [],
   "source": [
    "# This I showed in class:\n",
    "\n",
    "steps = [(1, 0), (-1, 0), (0, 1), (0, -1)]\n",
    "\n",
    "def generate_walks(path, L):\n",
    "    \"\"\"Generate all random walks on the 2D square lattice.\"\"\"\n",
    "    if L == 0:\n",
    "        print(path)\n",
    "    else:\n",
    "        for dx, dy in steps:\n",
    "            x, y = path[-1]\n",
    "            pp = path.copy()\n",
    "            pp.append((x + dx, y + dy))\n",
    "            generate_walks(pp, L - 1)"
   ]
  },
  {
   "cell_type": "code",
   "execution_count": 2,
   "metadata": {},
   "outputs": [
    {
     "name": "stdout",
     "output_type": "stream",
     "text": [
      "[(0, 0), (1, 0), (2, 0)]\n",
      "[(0, 0), (1, 0), (0, 0)]\n",
      "[(0, 0), (1, 0), (1, 1)]\n",
      "[(0, 0), (1, 0), (1, -1)]\n",
      "[(0, 0), (-1, 0), (0, 0)]\n",
      "[(0, 0), (-1, 0), (-2, 0)]\n",
      "[(0, 0), (-1, 0), (-1, 1)]\n",
      "[(0, 0), (-1, 0), (-1, -1)]\n",
      "[(0, 0), (0, 1), (1, 1)]\n",
      "[(0, 0), (0, 1), (-1, 1)]\n",
      "[(0, 0), (0, 1), (0, 2)]\n",
      "[(0, 0), (0, 1), (0, 0)]\n",
      "[(0, 0), (0, -1), (1, -1)]\n",
      "[(0, 0), (0, -1), (-1, -1)]\n",
      "[(0, 0), (0, -1), (0, 0)]\n",
      "[(0, 0), (0, -1), (0, -2)]\n"
     ]
    }
   ],
   "source": [
    "generate_walks([(0, 0)], 2)"
   ]
  },
  {
   "cell_type": "markdown",
   "metadata": {},
   "source": [
    "## Store the walks\n",
    "\n",
    "Printing walks is nice, but not very useful. Better construct a list of all walks, for postprocessing. To this end, add a `cache` parameter, which stores all generated walks."
   ]
  },
  {
   "cell_type": "code",
   "execution_count": 3,
   "metadata": {},
   "outputs": [],
   "source": [
    "steps = [(1, 0), (-1, 0), (0, 1), (0, -1)]\n",
    "\n",
    "def generate_walks_stored(path, L, cache):\n",
    "    if L == 0:\n",
    "        cache.append(path)\n",
    "    else:\n",
    "        for dx, dy in steps:\n",
    "            x, y = path[-1]\n",
    "            xy_new = (x + dx, y + dy)\n",
    "            pp = path.copy()\n",
    "            pp.append(xy_new)\n",
    "            generate_walks_stored(pp, L - 1, cache)"
   ]
  },
  {
   "cell_type": "code",
   "execution_count": 4,
   "metadata": {},
   "outputs": [
    {
     "data": {
      "text/plain": [
       "16"
      ]
     },
     "execution_count": 4,
     "metadata": {},
     "output_type": "execute_result"
    }
   ],
   "source": [
    "cache = []\n",
    "generate_walks_stored([(0, 0)], 2, cache)\n",
    "len(cache)"
   ]
  },
  {
   "cell_type": "code",
   "execution_count": 5,
   "metadata": {},
   "outputs": [
    {
     "data": {
      "text/plain": [
       "[[(0, 0), (1, 0), (2, 0)],\n",
       " [(0, 0), (1, 0), (0, 0)],\n",
       " [(0, 0), (1, 0), (1, 1)],\n",
       " [(0, 0), (1, 0), (1, -1)],\n",
       " [(0, 0), (-1, 0), (0, 0)],\n",
       " [(0, 0), (-1, 0), (-2, 0)],\n",
       " [(0, 0), (-1, 0), (-1, 1)],\n",
       " [(0, 0), (-1, 0), (-1, -1)],\n",
       " [(0, 0), (0, 1), (1, 1)],\n",
       " [(0, 0), (0, 1), (-1, 1)],\n",
       " [(0, 0), (0, 1), (0, 2)],\n",
       " [(0, 0), (0, 1), (0, 0)],\n",
       " [(0, 0), (0, -1), (1, -1)],\n",
       " [(0, 0), (0, -1), (-1, -1)],\n",
       " [(0, 0), (0, -1), (0, 0)],\n",
       " [(0, 0), (0, -1), (0, -2)]]"
      ]
     },
     "execution_count": 5,
     "metadata": {},
     "output_type": "execute_result"
    }
   ],
   "source": [
    "cache"
   ]
  },
  {
   "cell_type": "markdown",
   "metadata": {},
   "source": [
    "## Task 0\n",
    "\n",
    "Compute the average end-to-end distance of random walks of a given length. What is the scaling of the end-to-end distance with the length of the walk? What is the scaling of the mean *square* end-to-end distance with the length?"
   ]
  },
  {
   "cell_type": "markdown",
   "metadata": {},
   "source": [
    "<font color='red'> (See in the papers, prove) </font>"
   ]
  },
  {
   "cell_type": "markdown",
   "metadata": {
    "collapsed": true
   },
   "source": [
    "Compute the average end-to-end distance of random walks of a given length."
   ]
  },
  {
   "cell_type": "markdown",
   "metadata": {},
   "source": [
    "$R$ is the end to end vector of an ideal chain and $r_1$, $r_n$  the vectors corresponding to individual mers. Those random vectors have components in the three directions of space. (in this case only two: x,y) Because of number of mers N is large, so that the central limit theorem applies. From the symmetry considerations, it is obvious that the mean end-to-end distance of the chain $R$ vector equals $0$.\n",
    "[https://en.wikipedia.org/wiki/Ideal_chain]"
   ]
  },
  {
   "cell_type": "markdown",
   "metadata": {},
   "source": [
    "![kkk](https://upload.wikimedia.org/wikipedia/commons/e/e1/Ideal_chain_random_walk.png)"
   ]
  },
  {
   "cell_type": "code",
   "execution_count": 6,
   "metadata": {},
   "outputs": [],
   "source": [
    "def end_to_end_vector(path,n):\n",
    "    cache=[]\n",
    "    x = 0\n",
    "    y = 0\n",
    "    generate_walks_stored(path,n,cache) \n",
    "    for f in range(len(cache)): \n",
    "        x += cache[f][-1][0] - cache[f][0][0]\n",
    "        y += cache[f][-1][1] - cache[f][0][1]\n",
    "        coord_x = x/len(cache)\n",
    "        coord_y = y/len(cache)        \n",
    "    return ('start point = ', path,'R vector = ',(coord_x,coord_y))"
   ]
  },
  {
   "cell_type": "code",
   "execution_count": 7,
   "metadata": {},
   "outputs": [
    {
     "name": "stdout",
     "output_type": "stream",
     "text": [
      "If L = 0  then ('start point = ', [(0, 0)], 'R vector = ', (0.0, 0.0))\n",
      "If L = 1  then ('start point = ', [(1, 1)], 'R vector = ', (0.0, 0.0))\n",
      "If L = 2  then ('start point = ', [(2, 2)], 'R vector = ', (0.0, 0.0))\n",
      "If L = 3  then ('start point = ', [(3, 3)], 'R vector = ', (0.0, 0.0))\n",
      "If L = 4  then ('start point = ', [(4, 4)], 'R vector = ', (0.0, 0.0))\n",
      "If L = 5  then ('start point = ', [(5, 5)], 'R vector = ', (0.0, 0.0))\n",
      "If L = 6  then ('start point = ', [(6, 6)], 'R vector = ', (0.0, 0.0))\n",
      "If L = 7  then ('start point = ', [(7, 7)], 'R vector = ', (0.0, 0.0))\n",
      "If L = 8  then ('start point = ', [(8, 8)], 'R vector = ', (0.0, 0.0))\n",
      "If L = 9  then ('start point = ', [(9, 9)], 'R vector = ', (0.0, 0.0))\n",
      "If L = 10  then ('start point = ', [(10, 10)], 'R vector = ', (0.0, 0.0))\n",
      "If L = 11  then ('start point = ', [(11, 11)], 'R vector = ', (0.0, 0.0))\n",
      "If L = 12  then ('start point = ', [(12, 12)], 'R vector = ', (0.0, 0.0))\n"
     ]
    }
   ],
   "source": [
    "h = [0,1,2,3,4,5,6,7,8,9,10,11,12]\n",
    "for i in h:\n",
    "    print ('If L =',i, ' then', end_to_end_vector([(i,i)],i)) "
   ]
  },
  {
   "cell_type": "markdown",
   "metadata": {},
   "source": [
    "What is the scaling of the end-to-end distance with the length of the walk?"
   ]
  },
  {
   "cell_type": "markdown",
   "metadata": {},
   "source": [
    "Расстояние городских кварталов — метрика, введённая Германом Минковским. Согласно этой метрике, расстояние между двумя точками равно сумме модулей разностей их координат.\n",
    "Также имеет название метрика L1, норма ℓ 1 или манхэттенское расстояние. \n",
    "\n",
    "$$\\|x\\|_{1}=\\sum _{{i}}|x_{{i}}|$$\n",
    "    \n",
    "$$d = |x_2-x_1| + |y_2 - y_1|$$\n",
    "\n",
    "Это расстояние является средним разностей по координатам.\n",
    "\n",
    "https://en.wikipedia.org/wiki/Taxicab_geometry"
   ]
  },
  {
   "cell_type": "code",
   "execution_count": 8,
   "metadata": {},
   "outputs": [],
   "source": [
    "# Find average end-to-end distance\n",
    "def aver_dis(path,L):\n",
    "    cache=[]\n",
    "    dis = 0\n",
    "    generate_walks_stored(path, L, cache)\n",
    "    for f in range (len(cache)):\n",
    "        dis+= abs((cache[f][-1][0] - cache[f][0][0])) + abs((cache[f][-1][1]-cache[f][0][1]))  \n",
    "        res = dis/len(cache)\n",
    "    return res"
   ]
  },
  {
   "cell_type": "code",
   "execution_count": 9,
   "metadata": {},
   "outputs": [
    {
     "name": "stdout",
     "output_type": "stream",
     "text": [
      "If L = 0  and ||R||_1 = 0.0\n",
      "If L = 1  and ||R||_1 = 1.0\n",
      "If L = 2  and ||R||_1 = 1.5\n",
      "If L = 3  and ||R||_1 = 1.875\n",
      "If L = 4  and ||R||_1 = 2.188\n",
      "If L = 5  and ||R||_1 = 2.461\n",
      "If L = 6  and ||R||_1 = 2.707\n",
      "If L = 7  and ||R||_1 = 2.933\n",
      "If L = 8  and ||R||_1 = 3.142\n",
      "If L = 9  and ||R||_1 = 3.338\n",
      "If L = 10  and ||R||_1 = 3.524\n",
      "If L = 11  and ||R||_1 = 3.7\n",
      "If L = 12  and ||R||_1 = 3.868\n"
     ]
    }
   ],
   "source": [
    "h = [0,1,2,3,4,5,6,7,8,9,10,11,12]\n",
    "for i in h:\n",
    "    print ('If L =',i, ' and ||R||_1 =',round(aver_dis([(0,0)],i),3) )"
   ]
  },
  {
   "cell_type": "code",
   "execution_count": 10,
   "metadata": {},
   "outputs": [],
   "source": [
    "# Find avarage end-to-end vector coordinates\n",
    "def aver_coordinates(path,L):\n",
    "    cache=[]\n",
    "    x = 0\n",
    "    y = 0\n",
    "    generate_walks_stored(path, L, cache)\n",
    "    for f in range (len(cache)):\n",
    "        x+= abs((cache[f][-1][0]) - cache[f][0][0])\n",
    "        y+= abs(cache[f][-1][1] - cache[f][0][1]) \n",
    "        res_x = round(x/len(cache),2)\n",
    "        res_y = round(y/len(cache),2)\n",
    "    return res_x,res_y"
   ]
  },
  {
   "cell_type": "code",
   "execution_count": 11,
   "metadata": {},
   "outputs": [
    {
     "name": "stdout",
     "output_type": "stream",
     "text": [
      "If L = 0  then avarage end-to-end distance coordinates (x,y):  (0.0, 0.0)\n",
      "If L = 1  then avarage end-to-end distance coordinates (x,y):  (0.5, 0.5)\n",
      "If L = 2  then avarage end-to-end distance coordinates (x,y):  (0.75, 0.75)\n",
      "If L = 3  then avarage end-to-end distance coordinates (x,y):  (0.94, 0.94)\n",
      "If L = 4  then avarage end-to-end distance coordinates (x,y):  (1.09, 1.09)\n",
      "If L = 5  then avarage end-to-end distance coordinates (x,y):  (1.23, 1.23)\n",
      "If L = 6  then avarage end-to-end distance coordinates (x,y):  (1.35, 1.35)\n",
      "If L = 7  then avarage end-to-end distance coordinates (x,y):  (1.47, 1.47)\n",
      "If L = 8  then avarage end-to-end distance coordinates (x,y):  (1.57, 1.57)\n",
      "If L = 9  then avarage end-to-end distance coordinates (x,y):  (1.67, 1.67)\n",
      "If L = 10  then avarage end-to-end distance coordinates (x,y):  (1.76, 1.76)\n",
      "If L = 11  then avarage end-to-end distance coordinates (x,y):  (1.85, 1.85)\n",
      "If L = 12  then avarage end-to-end distance coordinates (x,y):  (1.93, 1.93)\n"
     ]
    }
   ],
   "source": [
    "h = [0,1,2,3,4,5,6,7,8,9,10,11,12]\n",
    "for i in h:\n",
    "    print ('If L =',i, ' then avarage end-to-end distance coordinates (x,y): ',aver_coordinates([(0,0)],i) )"
   ]
  },
  {
   "cell_type": "markdown",
   "metadata": {},
   "source": [
    "What is the scaling of the mean square end-to-end distance with the length?"
   ]
  },
  {
   "cell_type": "markdown",
   "metadata": {},
   "source": [
    "Mean square - это метрика L2, норма ℓ 2 или евклидова норма. Является геометрическим расстоянием между двумя точками в многомерном пространстве, вычисляемым по теореме Пифагора.\n",
    "\n",
    "$$\\|x\\|_{2}={\\sqrt  {\\sum _{{i}}|x_{{i}}|^{2}}}$$"
   ]
  },
  {
   "cell_type": "markdown",
   "metadata": {},
   "source": [
    "https://ru.wikipedia.org/wiki/Норма_(математика)"
   ]
  },
  {
   "cell_type": "code",
   "execution_count": 12,
   "metadata": {},
   "outputs": [],
   "source": [
    "# Find average mean square \n",
    "def mean_square(path,L):\n",
    "    cache=[]\n",
    "    dis = 0\n",
    "    generate_walks_stored(path, L, cache)\n",
    "    for f in range (len(cache)):\n",
    "        dis+= (((cache[f][-1][0] - cache[f][0][0])**2) + (cache[f][-1][1]-cache[f][0][1])**2)**(1/2)\n",
    "        res = dis/len(cache)\n",
    "    return res"
   ]
  },
  {
   "cell_type": "code",
   "execution_count": 13,
   "metadata": {},
   "outputs": [
    {
     "name": "stdout",
     "output_type": "stream",
     "text": [
      "When L = 0  and ||R||_2 = 0.0\n",
      "When L = 1  and ||R||_2 = 1.0\n",
      "When L = 2  and ||R||_2 = 1.2071067811865477\n",
      "When L = 3  and ||R||_2 = 1.5885254915624203\n",
      "When L = 4  and ||R||_2 = 1.7532798363559174\n",
      "When L = 5  and ||R||_2 = 2.0193315606071582\n",
      "When L = 6  and ||R||_2 = 2.1612211221359865\n",
      "When L = 7  and ||R||_2 = 2.374821460732043\n",
      "When L = 8  and ||R||_2 = 2.5017070926792733\n",
      "When L = 9  and ||R||_2 = 2.6842200373912326\n",
      "When L = 10  and ||R||_2 = 2.800234705444815\n",
      "When L = 11  and ||R||_2 = 2.961745829989649\n",
      "When L = 12  and ||R||_2 = 3.069392021651456\n"
     ]
    }
   ],
   "source": [
    "p = [0,1,2,3,4,5,6,7,8,9,10,11,12]\n",
    "for i in p:\n",
    "    print ('When L =',i,' and ||R||_2 =',mean_square([(0,0)],i) )"
   ]
  },
  {
   "cell_type": "markdown",
   "metadata": {},
   "source": [
    "# I. Generate all SAWs on a 2D square lattice\n",
    "\n",
    "A self-avoiding walk is a random walk where a lattice site can only be visited once."
   ]
  },
  {
   "cell_type": "code",
   "execution_count": 14,
   "metadata": {},
   "outputs": [],
   "source": [
    "steps = [(1, 0), (-1, 0), (0, 1), (0, -1)]\n",
    "\n",
    "def generate_SAWs(path, L, cache):\n",
    "    if L==0:\n",
    "        cache.append(path)\n",
    "    else:\n",
    "        for dx,dy in steps:\n",
    "            x,y = path[-1]\n",
    "            pp=path.copy()\n",
    "            prirashenie = (x+dx,y+dy)\n",
    "            if prirashenie not in pp: # если узел решетки не встречался ранее в пути, то добавляем его\n",
    "                pp.append(prirashenie)\n",
    "                generate_SAWs(pp,L-1,cache)"
   ]
  },
  {
   "cell_type": "code",
   "execution_count": 15,
   "metadata": {},
   "outputs": [
    {
     "data": {
      "text/plain": [
       "[[(2, 3), (3, 3), (4, 3)],\n",
       " [(2, 3), (3, 3), (3, 4)],\n",
       " [(2, 3), (3, 3), (3, 2)],\n",
       " [(2, 3), (1, 3), (0, 3)],\n",
       " [(2, 3), (1, 3), (1, 4)],\n",
       " [(2, 3), (1, 3), (1, 2)],\n",
       " [(2, 3), (2, 4), (3, 4)],\n",
       " [(2, 3), (2, 4), (1, 4)],\n",
       " [(2, 3), (2, 4), (2, 5)],\n",
       " [(2, 3), (2, 2), (3, 2)],\n",
       " [(2, 3), (2, 2), (1, 2)],\n",
       " [(2, 3), (2, 2), (2, 1)]]"
      ]
     },
     "execution_count": 15,
     "metadata": {},
     "output_type": "execute_result"
    }
   ],
   "source": [
    "cache = []\n",
    "generate_SAWs([(2,3)],2,cache)\n",
    "cache"
   ]
  },
  {
   "cell_type": "markdown",
   "metadata": {},
   "source": [
    "## Task 1\n",
    "\n",
    "How many walks of a given length are there? What is the mean end-to-end distance of walks of a given length? What is mean *square* of the end-to-end distance?"
   ]
  },
  {
   "cell_type": "markdown",
   "metadata": {},
   "source": [
    "<font color='red'> (See in the papers, prove) </font>"
   ]
  },
  {
   "cell_type": "markdown",
   "metadata": {
    "collapsed": true
   },
   "source": [
    "How many walks of a given length are there?"
   ]
  },
  {
   "cell_type": "code",
   "execution_count": 16,
   "metadata": {},
   "outputs": [],
   "source": [
    "def len_cache(path,n):\n",
    "    cache=[]\n",
    "    generate_SAWs(path,n,cache)\n",
    "    return(len(cache))"
   ]
  },
  {
   "cell_type": "code",
   "execution_count": 17,
   "metadata": {},
   "outputs": [
    {
     "name": "stdout",
     "output_type": "stream",
     "text": [
      "When L = 1  Amount of walks = 4\n",
      "When L = 2  Amount of walks = 12\n",
      "When L = 3  Amount of walks = 36\n",
      "When L = 4  Amount of walks = 100\n",
      "When L = 5  Amount of walks = 284\n",
      "When L = 6  Amount of walks = 780\n",
      "When L = 7  Amount of walks = 2172\n",
      "When L = 8  Amount of walks = 5916\n",
      "When L = 9  Amount of walks = 16268\n",
      "When L = 10  Amount of walks = 44100\n",
      "When L = 11  Amount of walks = 120292\n",
      "When L = 12  Amount of walks = 324932\n"
     ]
    }
   ],
   "source": [
    "d = [1,2,3,4,5,6,7,8,9,10,11,12]\n",
    "for i in d:\n",
    "    print ('When L =',i,' Amount of walks =',len_cache([(0,0)],i) )"
   ]
  },
  {
   "cell_type": "markdown",
   "metadata": {},
   "source": [
    "What is the mean end-to-end distance of walks of a given length?"
   ]
  },
  {
   "cell_type": "code",
   "execution_count": 18,
   "metadata": {},
   "outputs": [],
   "source": [
    "# Find avarage end-to-end distance\n",
    "def aver_dis_self_avoiding(path,L):\n",
    "    cache=[]\n",
    "    dis = 0\n",
    "    generate_SAWs(path, L, cache)\n",
    "    for f in range (len(cache)):\n",
    "        dis+= abs((cache[f][-1][0] - cache[f][0][0])) + abs((cache[f][-1][1]-cache[f][0][1]))  \n",
    "        res = dis/len(cache)\n",
    "    return res"
   ]
  },
  {
   "cell_type": "code",
   "execution_count": 19,
   "metadata": {},
   "outputs": [
    {
     "name": "stdout",
     "output_type": "stream",
     "text": [
      "When L = 1  and ||R||_1 = 1.0\n",
      "When L = 2  and ||R||_1 = 2.0\n",
      "When L = 3  and ||R||_1 = 2.5555555555555554\n",
      "When L = 4  and ||R||_1 = 3.2\n",
      "When L = 5  and ||R||_1 = 3.704225352112676\n",
      "When L = 6  and ||R||_1 = 4.276923076923077\n",
      "When L = 7  and ||R||_1 = 4.731123388581952\n",
      "When L = 8  and ||R||_1 = 5.249492900608519\n",
      "When L = 9  and ||R||_1 = 5.67863289894271\n",
      "When L = 10  and ||R||_1 = 6.159637188208617\n",
      "When L = 11  and ||R||_1 = 6.570910783759518\n",
      "When L = 12  and ||R||_1 = 7.023746506961457\n"
     ]
    }
   ],
   "source": [
    "p = [1,2,3,4,5,6,7,8,9,10,11,12]\n",
    "for i in p:\n",
    "    print ('When L =',i,' and ||R||_1 =',aver_dis_self_avoiding([(0,0)],i) )"
   ]
  },
  {
   "cell_type": "code",
   "execution_count": 20,
   "metadata": {},
   "outputs": [],
   "source": [
    "# Find avarage end-to-end distance coordinates\n",
    "def aver_coordinates(path,L):\n",
    "    cache=[]\n",
    "    x = 0\n",
    "    y = 0\n",
    "    generate_SAWs(path, L, cache)\n",
    "    for f in range (len(cache)):\n",
    "        x+= abs((cache[f][-1][0]) - cache[f][0][0])\n",
    "        y+= abs((cache[f][-1][1]-cache[f][0][1]))  \n",
    "        res_x = round(x/len(cache),2)\n",
    "        res_y = round(y/len(cache),2)\n",
    "    return res_x,res_y"
   ]
  },
  {
   "cell_type": "code",
   "execution_count": 21,
   "metadata": {},
   "outputs": [
    {
     "name": "stdout",
     "output_type": "stream",
     "text": [
      "If L = 0  then avarage end-to-end distance coordinates (x,y):  (0.0, 0.0)\n",
      "If L = 1  then avarage end-to-end distance coordinates (x,y):  (0.5, 0.5)\n",
      "If L = 2  then avarage end-to-end distance coordinates (x,y):  (1.0, 1.0)\n",
      "If L = 3  then avarage end-to-end distance coordinates (x,y):  (1.28, 1.28)\n",
      "If L = 4  then avarage end-to-end distance coordinates (x,y):  (1.6, 1.6)\n",
      "If L = 5  then avarage end-to-end distance coordinates (x,y):  (1.85, 1.85)\n",
      "If L = 6  then avarage end-to-end distance coordinates (x,y):  (2.14, 2.14)\n",
      "If L = 7  then avarage end-to-end distance coordinates (x,y):  (2.37, 2.37)\n",
      "If L = 8  then avarage end-to-end distance coordinates (x,y):  (2.62, 2.62)\n",
      "If L = 9  then avarage end-to-end distance coordinates (x,y):  (2.84, 2.84)\n",
      "If L = 10  then avarage end-to-end distance coordinates (x,y):  (3.08, 3.08)\n",
      "If L = 11  then avarage end-to-end distance coordinates (x,y):  (3.29, 3.29)\n",
      "If L = 12  then avarage end-to-end distance coordinates (x,y):  (3.51, 3.51)\n"
     ]
    }
   ],
   "source": [
    "h = [0,1,2,3,4,5,6,7,8,9,10,11,12]\n",
    "for i in h:\n",
    "    print ('If L =',i, ' then avarage end-to-end distance coordinates (x,y): ',aver_coordinates([(0,0)],i) )"
   ]
  },
  {
   "cell_type": "markdown",
   "metadata": {},
   "source": [
    "What is mean square of the end-to-end distance?"
   ]
  },
  {
   "cell_type": "code",
   "execution_count": 22,
   "metadata": {},
   "outputs": [],
   "source": [
    "# Find avarage average mean square \n",
    "def mean_square_self_avoiding(path,L):\n",
    "    cache=[]\n",
    "    dis = 0\n",
    "    generate_SAWs(path, L, cache)\n",
    "    for f in range (len(cache)):\n",
    "        dis+= (((cache[f][-1][0] - cache[f][0][0])**2) + (cache[f][-1][1]-cache[f][0][1])**2)**(1/2)\n",
    "        res = dis/len(cache)\n",
    "    return res"
   ]
  },
  {
   "cell_type": "code",
   "execution_count": 23,
   "metadata": {},
   "outputs": [
    {
     "name": "stdout",
     "output_type": "stream",
     "text": [
      "When L = 1  and ||R||_2 = 1.0\n",
      "When L = 2  and ||R||_2 = 1.6094757082487303\n",
      "When L = 3  and ||R||_2 = 2.046267540555414\n",
      "When L = 4  and ||R||_2 = 2.5570255311726613\n",
      "When L = 5  and ||R||_2 = 2.9512053136683383\n",
      "When L = 6  and ||R||_2 = 3.3905293993647274\n",
      "When L = 7  and ||R||_2 = 3.7476893934881423\n",
      "When L = 8  and ||R||_2 = 4.149885562855251\n",
      "When L = 9  and ||R||_2 = 4.487146601788904\n",
      "When L = 10  and ||R||_2 = 4.8610128762343825\n",
      "When L = 11  and ||R||_2 = 5.184254462861866\n",
      "When L = 12  and ||R||_2 = 5.537102753136451\n"
     ]
    }
   ],
   "source": [
    "d = [1,2,3,4,5,6,7,8,9,10,11,12]\n",
    "for i in d:\n",
    "    print ('When L =',i,' and ||R||_2 =',mean_square_self_avoiding([(0,0)],i) )"
   ]
  },
  {
   "cell_type": "markdown",
   "metadata": {},
   "source": [
    "## Extra tasks (for fun, no credit, a possible basis of a course project)\n",
    "\n",
    "1. Generate a self-avoiding walk on triangular lattice.\n",
    "2. Rewrite the recursive algorithm to use a queue."
   ]
  },
  {
   "cell_type": "code",
   "execution_count": null,
   "metadata": {},
   "outputs": [],
   "source": []
  },
  {
   "cell_type": "code",
   "execution_count": null,
   "metadata": {},
   "outputs": [],
   "source": []
  }
 ],
 "metadata": {
  "kernelspec": {
   "display_name": "Python 3",
   "language": "python",
   "name": "python3"
  },
  "language_info": {
   "codemirror_mode": {
    "name": "ipython",
    "version": 3
   },
   "file_extension": ".py",
   "mimetype": "text/x-python",
   "name": "python",
   "nbconvert_exporter": "python",
   "pygments_lexer": "ipython3",
   "version": "3.5.2"
  }
 },
 "nbformat": 4,
 "nbformat_minor": 2
}
