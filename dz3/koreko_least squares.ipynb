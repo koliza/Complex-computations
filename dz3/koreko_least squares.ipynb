{
 "cells": [
  {
   "cell_type": "markdown",
   "metadata": {},
   "source": [
    "# Linear (ordinary) least squares"
   ]
  },
  {
   "cell_type": "markdown",
   "metadata": {},
   "source": [
    "Suppose we have a set of points $\\left\\{ (x_i, y_i), i = 1, \\ldots, n \\right\\}$ and a functional form $f(x, \\vec \\beta)$, where $\\vec \\beta$ is a vector of parameters."
   ]
  },
  {
   "cell_type": "markdown",
   "metadata": {},
   "source": [
    "Then, *least squares approximation* is a problem of finding $\\vec \\beta$ by minimising function\n",
    "$$ \\xi (\\vec \\beta) = \\sum\\limits_{i = 1}^n \\left| y_i - f(x_i, \\vec \\beta) \\right|^2 $$"
   ]
  },
  {
   "cell_type": "markdown",
   "metadata": {},
   "source": [
    "Least squares approximation becomes *linear (or ordinary)* when we assume that $f(x, \\vec \\beta)$ is a linear function of $\\vec \\beta$: \n",
    "$$f(x, \\vec \\beta) = \\sum \\limits_{j = 1}^m \\beta_j \\varphi_j (x),$$\n",
    "where $\\varphi_j (x)$ are called basis functions which do not need to be linear ($x^k$, $e^{i \\alpha_k x}$ etc.)."
   ]
  },
  {
   "cell_type": "markdown",
   "metadata": {},
   "source": [
    "We minimize with respect to $\\vec \\beta$\n",
    "$$ \\xi (\\vec \\beta) = \\sum\\limits_{i = 1}^n \\left| y_i - \\left( \\beta_1 \\varphi_1(x) + \\ldots + \\beta_m \\varphi_m(x) \\right) \\right|^2 .$$\n",
    "It can be represented as \n",
    "$$\\xi (\\vec \\beta) = || \\vec y - A \\vec \\beta ||^2,$$\n",
    "if we suppose that a vector norm $||\\vec a|| = \\sqrt{\\sum\\limits_{i = 1}^n |a_i|^2}$ and *the design matrix*\n",
    "$$ A = \\begin{pmatrix} \n",
    "            \\varphi_1(x_1) & \\varphi_2(x_1) & \\ldots & \\varphi_m(x_1) \\\\\n",
    "            \\varphi_1(x_2) & \\varphi_2(x_2) & \\ldots & \\varphi_m(x_2) \\\\\n",
    "            \\vdots & \\vdots & \\ddots & \\vdots \\\\\n",
    "            \\varphi_1(x_n) & \\varphi_2(x_n) & \\ldots & \\varphi_m(x_n) \\\\\n",
    "        \\end{pmatrix}.$$"
   ]
  },
  {
   "cell_type": "markdown",
   "metadata": {},
   "source": [
    "To minimize $\\xi (\\vec \\beta)$ we set \n",
    "$$\\cfrac{\\partial}{\\partial \\beta_k} \\xi (\\vec \\beta) = 0, \\; k = 1, \\ldots, m, $$\n",
    "and obtain *the normal equation*\n",
    "$$A^T A \\vec \\beta = A^T \\vec y.$$"
   ]
  },
  {
   "cell_type": "markdown",
   "metadata": {},
   "source": [
    "If $A$ is poorly conditioned, then solving this matrix equation becomes a big problem. In this case QR decomposition of $A$ is often used. The design matrix can be represented as \n",
    "$$A = Q \\cdot R,$$\n",
    "where $Q$ is orthoginal ($Q^T Q = 1$), and $R$ is upper triangular."
   ]
  },
  {
   "cell_type": "markdown",
   "metadata": {},
   "source": [
    "Since $m < n$ last $n-m$ rows of $R$ are zero:\n",
    "$$A = Q \\cdot \\begin{pmatrix} \n",
    "                    R_1 \\\\\n",
    "                    0 \\\\\n",
    "                \\end{pmatrix}.$$\n",
    "Recall tht matrix $Q$ is a rotation operator, and introduced norm of a vector is invariant to rotation. Then, we rotate the residual $\\vec y - A \\vec \\beta$:\n",
    "$$\\xi (\\vec \\beta) = || \\vec y - A \\vec \\beta ||^2 = || Q^T \\left( \\vec y - A \\vec \\beta \\right) ||^2 = || Q^T \\vec y - \\begin{pmatrix} \n",
    "    R_1 \\\\\n",
    "    0 \\\\\n",
    "\\end{pmatrix} \\vec \\beta ||^2. $$"
   ]
  },
  {
   "cell_type": "markdown",
   "metadata": {},
   "source": [
    "Let us write \n",
    "$$Q^T \\vec y = \\begin{pmatrix} \n",
    "                    \\vec f \\\\\n",
    "                    \\vec r \\\\\n",
    "                \\end{pmatrix},$$\n",
    "where $\\mbox{dim} \\vec f = m$.\n",
    "\n",
    "This way,\n",
    "$$\\xi ( \\vec \\beta ) = ||\\vec f - R_1 \\vec \\beta||^2 + ||\\vec r||^2 \\rightarrow \\min \\Leftrightarrow R_1 \\vec \\beta = \\vec f.$$\n",
    "\n",
    "The last equation is solved by back substitution."
   ]
  },
  {
   "cell_type": "markdown",
   "metadata": {},
   "source": [
    "## Task"
   ]
  },
  {
   "cell_type": "markdown",
   "metadata": {},
   "source": [
    "Let the basis function be $x^k, \\; k = 0, \\ldots, m$. Write function that finds $\\vec \\beta$ for $m = 1, 2, 3$."
   ]
  },
  {
   "cell_type": "markdown",
   "metadata": {},
   "source": [
    "Рассчет $beta$ производится по формуле:\n",
    "    $$B = (X_{T}X)^{-1}X^{T}Y$$"
   ]
  },
  {
   "cell_type": "code",
   "execution_count": 1,
   "metadata": {},
   "outputs": [],
   "source": [
    "import numpy as np"
   ]
  },
  {
   "cell_type": "code",
   "execution_count": 2,
   "metadata": {},
   "outputs": [],
   "source": [
    "def linear_least_squares(m, xdata, ydata): \n",
    "    X = []\n",
    "    if m == 1:\n",
    "        xdata = xdata.reshape(-1,1)\n",
    "        n = xdata.shape[1]\n",
    "        r = np.linalg.matrix_rank(xdata)\n",
    "        U, sigma, VT = np.linalg.svd(xdata, full_matrices=False)\n",
    "        D_plus = np.diag(np.hstack([1/sigma[:r], np.zeros(n-r)]))\n",
    "        V = VT.T\n",
    "        X_plus = V.dot(D_plus).dot(U.T)\n",
    "        beta = X_plus.dot(ydata)\n",
    "    elif m == 2:        \n",
    "        X = np.array([xdata**1,xdata**0]).T\n",
    "        beta = np.linalg.inv((X.T.dot(X))).dot(X.T).dot(ydata)\n",
    "    elif m == 3:                 \n",
    "        X = np.array([xdata**2,xdata**1,xdata**0]).transpose()\n",
    "        beta = np.linalg.inv((X.T.dot(X))).dot(X.T).dot(ydata)\n",
    "    return beta\n"
   ]
  },
  {
   "cell_type": "markdown",
   "metadata": {},
   "source": [
    "Now implement your function to approximate real data."
   ]
  },
  {
   "cell_type": "code",
   "execution_count": 3,
   "metadata": {},
   "outputs": [],
   "source": [
    "from sklearn import datasets\n",
    "import matplotlib.pyplot as plt"
   ]
  },
  {
   "cell_type": "code",
   "execution_count": 4,
   "metadata": {},
   "outputs": [
    {
     "data": {
      "image/png": "[encoded data removed]",
      "text/plain": [
       "<Figure size 432x288 with 1 Axes>"
      ]
     },
     "metadata": {
      "needs_background": "light"
     },
     "output_type": "display_data"
    }
   ],
   "source": [
    "diabetes = datasets.load_iris()\n",
    "X = diabetes.data\n",
    "y = diabetes.target\n",
    "\n",
    "ydata = X[:100,-1]\n",
    "xdata = X[:100,0]\n",
    "\n",
    "plt.plot(xdata, ydata, 'o', label='Original data', markersize=10)\n",
    "plt.grid(True)\n",
    "plt.legend()\n",
    "plt.show()"
   ]
  },
  {
   "cell_type": "markdown",
   "metadata": {},
   "source": [
    "Plot the resulting functions."
   ]
  },
  {
   "cell_type": "code",
   "execution_count": 5,
   "metadata": {},
   "outputs": [
    {
     "data": {
      "image/png": "[encoded data removed]",
      "text/plain": [
       "<Figure size 432x288 with 1 Axes>"
      ]
     },
     "metadata": {
      "needs_background": "light"
     },
     "output_type": "display_data"
    }
   ],
   "source": [
    "diabetes = datasets.load_iris()\n",
    "X = diabetes.data\n",
    "y = diabetes.target\n",
    "\n",
    "ydata = X[:100,-1]\n",
    "xdata = X[:100,0]\n",
    "\n",
    "plt.plot(xdata, ydata, 'o', label='Original data', markersize=10)\n",
    "plt.plot(xdata, linear_least_squares(1, xdata, ydata)*xdata, '-', label='m = 1', markersize=10)\n",
    "plt.plot(xdata, np.polyval(linear_least_squares(2, xdata, ydata), xdata), '-', label='m = 2', markersize=10)\n",
    "plt.grid(True)\n",
    "plt.legend()\n",
    "plt.show()"
   ]
  },
  {
   "cell_type": "code",
   "execution_count": 6,
   "metadata": {},
   "outputs": [
    {
     "data": {
      "image/png": "[encoded data removed]",
      "text/plain": [
       "<Figure size 432x288 with 1 Axes>"
      ]
     },
     "metadata": {
      "needs_background": "light"
     },
     "output_type": "display_data"
    }
   ],
   "source": [
    "diabetes = datasets.load_iris()\n",
    "X = diabetes.data\n",
    "y = diabetes.target\n",
    "\n",
    "ydata = X[:100,-1]\n",
    "xdata = X[:100,0]\n",
    "\n",
    "plt.plot(xdata, ydata, 'o', label='Original data', markersize=10)\n",
    "plt.plot(xdata, np.polyval(linear_least_squares(3, xdata, ydata), xdata), '-', label='m = 3', markersize=10)\n",
    "plt.grid(True)\n",
    "plt.legend()\n",
    "plt.show()"
   ]
  },
  {
   "cell_type": "markdown",
   "metadata": {},
   "source": [
    "Output the comma-separated list of coefficients before $x$. You will need this for Google Form."
   ]
  },
  {
   "cell_type": "code",
   "execution_count": 7,
   "metadata": {},
   "outputs": [
    {
     "name": "stdout",
     "output_type": "stream",
     "text": [
      "0.15108027488917092,0.6954194559668716,-0.09309726189272213\n"
     ]
    }
   ],
   "source": [
    "coefs = []\n",
    "\n",
    "# assuming that beta[1] is always a coefficient before x\n",
    "for m in range(1, 4):\n",
    "    coefs.append(str((linear_least_squares(m,xdata, ydata)[0])))\n",
    "    \n",
    "print(\",\".join(coefs))"
   ]
  },
  {
   "cell_type": "markdown",
   "metadata": {},
   "source": [
    "Output the comma-separated list of average quadratic deviations. You will need this for Google Form.\n",
    "\n",
    "*Reminder*: Average quadratic deviation = $\\cfrac{1}{n} \\sum\\limits_{i = 1}^{n} \\left| y_i - f(x_i, \\vec \\beta) \\right|^2 $, where $n$ is the number of observations."
   ]
  },
  {
   "cell_type": "code",
   "execution_count": 8,
   "metadata": {},
   "outputs": [],
   "source": [
    "res1 = 0\n",
    "for i in ydata:\n",
    "    for j in np.polyval(linear_least_squares(1, xdata, ydata), xdata):\n",
    "        res1 += abs(i-j)**2"
   ]
  },
  {
   "cell_type": "code",
   "execution_count": 9,
   "metadata": {},
   "outputs": [],
   "source": [
    "res2 = 0\n",
    "for i in ydata:\n",
    "    for j in np.polyval(linear_least_squares(2, xdata, ydata), xdata):\n",
    "        res2 += abs(i-j)**2"
   ]
  },
  {
   "cell_type": "code",
   "execution_count": 10,
   "metadata": {},
   "outputs": [],
   "source": [
    "res3 = 0\n",
    "for i in ydata:\n",
    "    for j in np.polyval(linear_least_squares(3, xdata, ydata), xdata):\n",
    "        res3 += abs(i-j)**2"
   ]
  },
  {
   "cell_type": "code",
   "execution_count": 11,
   "metadata": {},
   "outputs": [],
   "source": [
    "result_sum = [res1, res2, res3]"
   ]
  },
  {
   "cell_type": "code",
   "execution_count": 12,
   "metadata": {},
   "outputs": [
    {
     "name": "stdout",
     "output_type": "stream",
     "text": [
      "71.93270573347942,51.335124324988655,51.517754282720425\n"
     ]
    }
   ],
   "source": [
    "aqds = []\n",
    "\n",
    "for m in range(0, 3):\n",
    "    cur_aqd = (1/len(xdata))*result_sum[m]\n",
    "    \n",
    "    aqds.append(str(cur_aqd))\n",
    "    \n",
    "print(\",\".join(aqds))"
   ]
  },
  {
   "cell_type": "code",
   "execution_count": null,
   "metadata": {},
   "outputs": [],
   "source": []
  }
 ],
 "metadata": {
  "kernelspec": {
   "display_name": "Python 3",
   "language": "python",
   "name": "python3"
  },
  "language_info": {
   "codemirror_mode": {
    "name": "ipython",
    "version": 3
   },
   "file_extension": ".py",
   "mimetype": "text/x-python",
   "name": "python",
   "nbconvert_exporter": "python",
   "pygments_lexer": "ipython3",
   "version": "3.5.2"
  }
 },
 "nbformat": 4,
 "nbformat_minor": 2
}
