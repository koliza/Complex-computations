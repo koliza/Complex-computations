{
 "cells": [
  {
   "cell_type": "markdown",
   "metadata": {},
   "source": [
    "# I. Generate all lattice walks, 2D square lattice"
   ]
  },
  {
   "cell_type": "code",
   "execution_count": 1,
   "metadata": {
    "collapsed": false
   },
   "outputs": [],
   "source": [
    "# This I showed in class:\n",
    "\n",
    "\n",
    "steps = [(1, 0), (-1, 0), (0, 1), (0, -1)]\n",
    "\n",
    "def generate_walks(path, L):\n",
    "    \"\"\"Generate all random walks on the 2D square lattice.\"\"\"\n",
    "    if L == 0:\n",
    "        print(path)\n",
    "    else:\n",
    "        for dx, dy in steps:\n",
    "            x, y = path[-1]\n",
    "            pp = path.copy()\n",
    "            pp.append((x + dx, y + dy))\n",
    "            generate_walks(pp, L - 1)            "
   ]
  },
  {
   "cell_type": "code",
   "execution_count": 2,
   "metadata": {
    "collapsed": false
   },
   "outputs": [
    {
     "name": "stdout",
     "output_type": "stream",
     "text": [
      "[(0, 0), (1, 0)]\n",
      "[(0, 0), (-1, 0)]\n",
      "[(0, 0), (0, 1)]\n",
      "[(0, 0), (0, -1)]\n"
     ]
    }
   ],
   "source": [
    "generate_walks([(0, 0)], 1)"
   ]
  },
  {
   "cell_type": "markdown",
   "metadata": {},
   "source": [
    "## Store the walks\n",
    "\n",
    "Printing walks is nice, but not very useful. Better construct a list of all walks, for postprocessing. To this end, add a `cache` parameter, which stores all generated walks."
   ]
  },
  {
   "cell_type": "code",
   "execution_count": 3,
   "metadata": {
    "collapsed": false
   },
   "outputs": [],
   "source": [
    "steps = [(1, 0), (-1, 0), (0, 1), (0, -1)]\n",
    "def generate_walks2(path, L, cache):    \n",
    "    if L == 0:\n",
    "        cache.append(path)\n",
    "    else:        \n",
    "        for dx, dy in steps:            \n",
    "            x, y = path[-1]\n",
    "            xy_new = (x + dx, y + dy)\n",
    "            pp = path.copy()\n",
    "            pp.append(xy_new)\n",
    "            generate_walks2(pp, L - 1, cache)    "
   ]
  },
  {
   "cell_type": "markdown",
   "metadata": {},
   "source": [
    "## Task 0\n",
    "\n",
    "Compute the average end-to-end distance of random walks of a given length. What is the scaling of the end-to-end distance with the length of the walk? What is the scaling of the mean *square* end-to-end distance with the length?"
   ]
  },
  {
   "cell_type": "markdown",
   "metadata": {},
   "source": [
    "Compute the average end-to-end distance of random walks of a given length."
   ]
  },
  {
   "cell_type": "code",
   "execution_count": 4,
   "metadata": {
    "collapsed": true
   },
   "outputs": [],
   "source": [
    "def end_to_end_vector(path,n):\n",
    "    cache=[]\n",
    "    x = 0\n",
    "    y = 0\n",
    "    generate_walks2(path,n,cache) \n",
    "    for i in range(len(cache)): \n",
    "        x += cache[i][-1][0]\n",
    "        y += cache[i][-1][1]\n",
    "        coord_x = x/len(cache)\n",
    "        coord_y = y/len(cache)        \n",
    "    return ('start point = ', path,'end point = ',(coord_x,coord_y))"
   ]
  },
  {
   "cell_type": "code",
   "execution_count": 5,
   "metadata": {
    "collapsed": false
   },
   "outputs": [
    {
     "name": "stdout",
     "output_type": "stream",
     "text": [
      "If L = 0  then ('start point = ', [(0, 0)], 'end point = ', (0.0, 0.0))\n",
      "If L = 1  then ('start point = ', [(1, 1)], 'end point = ', (1.0, 1.0))\n",
      "If L = 2  then ('start point = ', [(2, 2)], 'end point = ', (2.0, 2.0))\n",
      "If L = 3  then ('start point = ', [(3, 3)], 'end point = ', (3.0, 3.0))\n",
      "If L = 4  then ('start point = ', [(4, 4)], 'end point = ', (4.0, 4.0))\n",
      "If L = 5  then ('start point = ', [(5, 5)], 'end point = ', (5.0, 5.0))\n",
      "If L = 6  then ('start point = ', [(6, 6)], 'end point = ', (6.0, 6.0))\n",
      "If L = 7  then ('start point = ', [(7, 7)], 'end point = ', (7.0, 7.0))\n",
      "If L = 8  then ('start point = ', [(8, 8)], 'end point = ', (8.0, 8.0))\n"
     ]
    }
   ],
   "source": [
    "h = [0,1,2,3,4,5,6,7,8]\n",
    "for i in h:\n",
    "    print ('If L =',i, ' then', end_to_end_vector([(i,i)],i)) "
   ]
  },
  {
   "cell_type": "markdown",
   "metadata": {},
   "source": [
    "What is the scaling of the end-to-end distance with the length of the walk? "
   ]
  },
  {
   "cell_type": "markdown",
   "metadata": {},
   "source": [
    "Расстояние городских кварталов — метрика, введённая Германом Минковским. Согласно этой метрике, расстояние между двумя точками равно сумме модулей разностей их координат.\n",
    "Также имеет название метрика L1, норма ℓ 1 или манхэттенское расстояние. \n",
    "\n",
    "$$\\|x\\|_{1}=\\sum _{{i}}|x_{{i}}|$$\n",
    "    \n",
    "$$d = |x_2-x_1| + |y_2 - y_1|$$\n",
    "\n",
    "Это расстояние является средним разностей по координатам.\n",
    "\n",
    "https://en.wikipedia.org/wiki/Taxicab_geometry"
   ]
  },
  {
   "cell_type": "code",
   "execution_count": 6,
   "metadata": {
    "collapsed": true
   },
   "outputs": [],
   "source": [
    "# Find avarage average end-to-end distance\n",
    "def aver_dis(path,L):\n",
    "    cache=[]\n",
    "    dis = 0\n",
    "    generate_walks2(path, L, cache)\n",
    "    for f in range (len(cache)):\n",
    "        dis+= abs((cache[f][-1][0] - cache[f][0][0])) + abs((cache[f][-1][1]-cache[f][0][1]))  \n",
    "        res = dis/len(cache)\n",
    "    return res"
   ]
  },
  {
   "cell_type": "code",
   "execution_count": 7,
   "metadata": {
    "collapsed": false
   },
   "outputs": [
    {
     "name": "stdout",
     "output_type": "stream",
     "text": [
      "If L = 0  and ||R||_1 = 0.0\n",
      "If L = 1  and ||R||_1 = 1.0\n",
      "If L = 2  and ||R||_1 = 1.5\n",
      "If L = 3  and ||R||_1 = 1.88\n",
      "If L = 4  and ||R||_1 = 2.19\n",
      "If L = 5  and ||R||_1 = 2.46\n",
      "If L = 6  and ||R||_1 = 2.71\n",
      "If L = 7  and ||R||_1 = 2.93\n",
      "If L = 8  and ||R||_1 = 3.14\n"
     ]
    }
   ],
   "source": [
    "h = [0,1,2,3,4,5,6,7,8]\n",
    "for i in h:\n",
    "    print ('If L =',i, ' and ||R||_1 =',round(aver_dis([(0,0)],i),2) )"
   ]
  },
  {
   "cell_type": "markdown",
   "metadata": {},
   "source": [
    "What is the scaling of the mean square end-to-end distance with the length?"
   ]
  },
  {
   "cell_type": "markdown",
   "metadata": {},
   "source": [
    "Mean square - это метрика L2, норма ℓ 2 или евклидова норма. Является геометрическим расстоянием между двумя точками в многомерном пространстве, вычисляемым по теореме Пифагора.\n",
    "\n",
    "$$\\|x\\|_{2}={\\sqrt  {\\sum _{{i}}|x_{{i}}|^{2}}}$$"
   ]
  },
  {
   "cell_type": "markdown",
   "metadata": {},
   "source": [
    "https://ru.wikipedia.org/wiki/Норма_(математика)"
   ]
  },
  {
   "cell_type": "code",
   "execution_count": 8,
   "metadata": {
    "collapsed": false
   },
   "outputs": [],
   "source": [
    "# Find avarage average mean square \n",
    "def mean_square(path,L):\n",
    "    cache=[]\n",
    "    dis = 0\n",
    "    generate_walks2(path, L, cache)\n",
    "    for f in range (len(cache)):\n",
    "        dis+= (((cache[f][-1][0] - cache[f][0][0])**2) + (cache[f][-1][1]-cache[f][0][1])**2)**(1/2)\n",
    "        res = dis/len(cache)\n",
    "    return res"
   ]
  },
  {
   "cell_type": "code",
   "execution_count": 9,
   "metadata": {
    "collapsed": false
   },
   "outputs": [
    {
     "name": "stdout",
     "output_type": "stream",
     "text": [
      "When L = 1  and ||R||_2 = 1.0\n",
      "When L = 2  and ||R||_2 = 1.2071067811865477\n",
      "When L = 3  and ||R||_2 = 1.5885254915624203\n",
      "When L = 4  and ||R||_2 = 1.7532798363559174\n",
      "When L = 5  and ||R||_2 = 2.0193315606071582\n",
      "When L = 6  and ||R||_2 = 2.1612211221359865\n",
      "When L = 7  and ||R||_2 = 2.374821460732043\n",
      "When L = 8  and ||R||_2 = 2.5017070926792733\n"
     ]
    }
   ],
   "source": [
    "p = [1,2,3,4,5,6,7,8]\n",
    "for i in p:\n",
    "    print ('When L =',i,' and ||R||_2 =',mean_square([(0,0)],i) )"
   ]
  },
  {
   "cell_type": "markdown",
   "metadata": {},
   "source": [
    "# I. Generate all SAWs on a 2D square lattice\n",
    "\n",
    "A self-avoiding walk is a random walk where a lattice site can only be visited once.\n"
   ]
  },
  {
   "cell_type": "code",
   "execution_count": 10,
   "metadata": {
    "collapsed": false
   },
   "outputs": [],
   "source": [
    "steps = [(1, 0), (-1, 0), (0, 1), (0, -1)]\n",
    "\n",
    "def generate_SAWs(path, L, cache):\n",
    "    if L==0:\n",
    "        cache.append(path)\n",
    "    else:\n",
    "        for dx,dy in steps:\n",
    "            x,y = path[-1]\n",
    "            pp=path.copy()\n",
    "            prirashenie = (x+dx,y+dy)\n",
    "            if prirashenie not in pp: # если узел решетки не встречался ранее в пути, то добавляем его\n",
    "                pp.append(prirashenie)\n",
    "                generate_SAWs(pp,L-1,cache)"
   ]
  },
  {
   "cell_type": "code",
   "execution_count": 11,
   "metadata": {
    "collapsed": false
   },
   "outputs": [
    {
     "data": {
      "text/plain": [
       "[[(2, 3), (3, 3), (4, 3)],\n",
       " [(2, 3), (3, 3), (3, 4)],\n",
       " [(2, 3), (3, 3), (3, 2)],\n",
       " [(2, 3), (1, 3), (0, 3)],\n",
       " [(2, 3), (1, 3), (1, 4)],\n",
       " [(2, 3), (1, 3), (1, 2)],\n",
       " [(2, 3), (2, 4), (3, 4)],\n",
       " [(2, 3), (2, 4), (1, 4)],\n",
       " [(2, 3), (2, 4), (2, 5)],\n",
       " [(2, 3), (2, 2), (3, 2)],\n",
       " [(2, 3), (2, 2), (1, 2)],\n",
       " [(2, 3), (2, 2), (2, 1)]]"
      ]
     },
     "execution_count": 11,
     "metadata": {},
     "output_type": "execute_result"
    }
   ],
   "source": [
    "cache = []\n",
    "generate_SAWs([(2,3)],2,cache)\n",
    "cache"
   ]
  },
  {
   "cell_type": "markdown",
   "metadata": {},
   "source": [
    "## Task 1\n",
    "\n",
    "How many walks of a given length are there? What is the mean end-to-end distance of walks of a given length? What is mean *square* of the end-to-end distance?"
   ]
  },
  {
   "cell_type": "markdown",
   "metadata": {},
   "source": [
    "How many walks of a given length are there? "
   ]
  },
  {
   "cell_type": "code",
   "execution_count": 12,
   "metadata": {
    "collapsed": true
   },
   "outputs": [],
   "source": [
    "def len_cache(path,n):\n",
    "    cache=[]\n",
    "    generate_SAWs(path,n,cache)\n",
    "    return(len(cache))"
   ]
  },
  {
   "cell_type": "code",
   "execution_count": 13,
   "metadata": {
    "collapsed": false
   },
   "outputs": [
    {
     "name": "stdout",
     "output_type": "stream",
     "text": [
      "When L = 1  Amount of walks = 4\n",
      "When L = 2  Amount of walks = 12\n",
      "When L = 3  Amount of walks = 36\n",
      "When L = 4  Amount of walks = 100\n",
      "When L = 5  Amount of walks = 284\n",
      "When L = 6  Amount of walks = 780\n",
      "When L = 7  Amount of walks = 2172\n",
      "When L = 8  Amount of walks = 5916\n"
     ]
    }
   ],
   "source": [
    "d = [1,2,3,4,5,6,7,8]\n",
    "for i in d:\n",
    "    print ('When L =',i,' Amount of walks =',len_cache([(0,0)],i) )"
   ]
  },
  {
   "cell_type": "markdown",
   "metadata": {},
   "source": [
    "What is the mean end-to-end distance of walks of a given length?"
   ]
  },
  {
   "cell_type": "code",
   "execution_count": 14,
   "metadata": {
    "collapsed": true
   },
   "outputs": [],
   "source": [
    "# Find avarage average end-to-end distance\n",
    "def aver_dis_self_avoiding(path,L):\n",
    "    cache=[]\n",
    "    dis = 0\n",
    "    generate_SAWs(path, L, cache)\n",
    "    for f in range (len(cache)):\n",
    "        dis+= abs((cache[f][-1][0] - cache[f][0][0])) + abs((cache[f][-1][1]-cache[f][0][1]))  \n",
    "        res = dis/len(cache)\n",
    "    return res"
   ]
  },
  {
   "cell_type": "code",
   "execution_count": 15,
   "metadata": {
    "collapsed": false
   },
   "outputs": [
    {
     "name": "stdout",
     "output_type": "stream",
     "text": [
      "When L = 1  and ||R||_1 = 1.0\n",
      "When L = 2  and ||R||_1 = 2.0\n",
      "When L = 3  and ||R||_1 = 2.5555555555555554\n",
      "When L = 4  and ||R||_1 = 3.2\n",
      "When L = 5  and ||R||_1 = 3.704225352112676\n",
      "When L = 6  and ||R||_1 = 4.276923076923077\n",
      "When L = 7  and ||R||_1 = 4.731123388581952\n",
      "When L = 8  and ||R||_1 = 5.249492900608519\n"
     ]
    }
   ],
   "source": [
    "p = [1,2,3,4,5,6,7,8]\n",
    "for i in p:\n",
    "    print ('When L =',i,' and ||R||_1 =',aver_dis_self_avoiding([(0,0)],i) )"
   ]
  },
  {
   "cell_type": "markdown",
   "metadata": {},
   "source": [
    "What is mean square of the end-to-end distance?"
   ]
  },
  {
   "cell_type": "code",
   "execution_count": 16,
   "metadata": {
    "collapsed": true
   },
   "outputs": [],
   "source": [
    "# Find avarage average mean square \n",
    "def mean_square_self_avoiding(path,L):\n",
    "    cache=[]\n",
    "    dis = 0\n",
    "    generate_SAWs(path, L, cache)\n",
    "    for f in range (len(cache)):\n",
    "        dis+= (((cache[f][-1][0] - cache[f][0][0])**2) + (cache[f][-1][1]-cache[f][0][1])**2)**(1/2)\n",
    "        res = dis/len(cache)\n",
    "    return res"
   ]
  },
  {
   "cell_type": "code",
   "execution_count": 17,
   "metadata": {
    "collapsed": false
   },
   "outputs": [
    {
     "name": "stdout",
     "output_type": "stream",
     "text": [
      "When L = 1  Amount of walks = 1.0\n",
      "When L = 2  Amount of walks = 1.6094757082487303\n",
      "When L = 3  Amount of walks = 2.046267540555414\n",
      "When L = 4  Amount of walks = 2.5570255311726613\n",
      "When L = 5  Amount of walks = 2.9512053136683383\n",
      "When L = 6  Amount of walks = 3.3905293993647274\n",
      "When L = 7  Amount of walks = 3.7476893934881423\n",
      "When L = 8  Amount of walks = 4.149885562855251\n"
     ]
    }
   ],
   "source": [
    "d = [1,2,3,4,5,6,7,8]\n",
    "for i in d:\n",
    "    print ('When L =',i,' Amount of walks =',mean_square_self_avoiding([(0,0)],i) )"
   ]
  },
  {
   "cell_type": "markdown",
   "metadata": {},
   "source": [
    "## Extra tasks (for fun, no credit, a possible basis of a course project)\n",
    "\n",
    "1. Triangular lattice\n",
    "2. Rewrite the recursive algorithm to use a queue"
   ]
  },
  {
   "cell_type": "code",
   "execution_count": null,
   "metadata": {
    "collapsed": true
   },
   "outputs": [],
   "source": []
  }
 ],
 "metadata": {
  "kernelspec": {
   "display_name": "Python 3",
   "language": "python",
   "name": "python3"
  },
  "language_info": {
   "codemirror_mode": {
    "name": "ipython",
    "version": 3
   },
   "file_extension": ".py",
   "mimetype": "text/x-python",
   "name": "python",
   "nbconvert_exporter": "python",
   "pygments_lexer": "ipython3",
   "version": "3.3.5"
  }
 },
 "nbformat": 4,
 "nbformat_minor": 2
}
