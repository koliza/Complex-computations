{
 "cells": [
  {
   "cell_type": "markdown",
   "metadata": {},
   "source": [
    "## Solve a quadratic equation, $x^2 + b x + c = 0$."
   ]
  },
  {
   "cell_type": "markdown",
   "metadata": {},
   "source": [
    "Reduced quadratic equation\n",
    "It is sometimes convenient to reduce a quadratic equation so that its leading coefficient is one. This is done by dividing both sides by a, which is always possible since a is non-zero. This produces the reduced quadratic equation:[8]\n",
    "\n",
    "$$x^{2}+px+q=0$$\n",
    "where $p = b/a$ and $q = c/a$. This monic equation has the same solutions as the original.\n",
    "\n",
    "The quadratic formula for the solutions of the reduced quadratic equation, written in terms of its coefficients, is:\n",
    "\n",
    "$${\\displaystyle x={\\frac {1}{2}}\\left(-p\\pm {\\sqrt {p^{2}-4q}}\\right),}$$\n",
    "or equivalently:\n",
    "\n",
    "$${\\displaystyle x=-{\\frac {p}{2}}\\pm {\\sqrt {\\left({\\frac {p}{2}}\\right)^{2}-q}}.}$$\n",
    "\n",
    "Vietas formulas give a simple relation between the roots of a polynomial and its coefficients. In the case of the quadratic polynomial, they take the following form:\n",
    "\n",
    "$$x_1+x_2=-(b/a)$$\n",
    "\n",
    "and\n",
    "\n",
    "$$x_1 * x_2 = c/a.$$\n",
    "\n",
    "As a practical matter, Vietas formulas provide a useful method for finding the roots of a quadratic in the case where one root is much smaller than the other. If $| x_2| << | x_1|$, then $x _1 + x_ 2 ≈ x_1$, and we have the estimate:\n",
    "\n",
    "$$x_1 \\approx -\\frac{b}{a} .$$\n",
    "\n",
    "The second Vietas formula then provides:\n",
    "    \n",
    "$$x_2 = \\frac{c}{a \\ x_1} \\approx -\\frac{c}{b} .$$"
   ]
  },
  {
   "cell_type": "markdown",
   "metadata": {},
   "source": [
    "[https://en.wikipedia.org/wiki/Quadratic_equation]"
   ]
  },
  {
   "cell_type": "markdown",
   "metadata": {},
   "source": [
    "Так как предполагается, что корнями одного из выражений будут корни, для которых выполнимо $x _1 + x_ 2 ≈ x_1$, \n",
    "то будет необходимо выполнять проверку на выполнимость этого условия. Для этого можно использовать значение машинного\n",
    "эпсилон (в данном случае $eps = {10}^{-16}$) как порядка числа, в котором производится сравнение $x _1 + x_ 2$ и $x_1$."
   ]
  },
  {
   "cell_type": "code",
   "execution_count": 1,
   "metadata": {},
   "outputs": [],
   "source": [
    "from math import sqrt\n",
    "import numpy as np\n",
    "def solve_quad_1(b, c):\n",
    "    global x13\n",
    "    global x23\n",
    "    discriminant = float((b/2)**2 - float(c))\n",
    "    if discriminant > 0:\n",
    "        x13 = float(-b/2+sqrt(discriminant))\n",
    "        x23 = float(-b/2-sqrt(discriminant))\n",
    "    elif discriminant == 0:\n",
    "        x13 = float(-b/(2))\n",
    "        x23 = x13\n",
    "    else:\n",
    "        x13 = (-b/2+1j*sqrt(abs(discriminant)))\n",
    "        x23 = (-b/2-1j*sqrt(abs(discriminant)))\n",
    "    return x13,x23     "
   ]
  },
  {
   "cell_type": "code",
   "execution_count": 2,
   "metadata": {},
   "outputs": [],
   "source": [
    "def solve_quad(b, c):\n",
    "    \"\"\"Solve a quadratic equation, x**2 + bx + c = 0.\n",
    "    \n",
    "    Parameters\n",
    "    ----------\n",
    "    b, c : float\n",
    "       Coefficients\n",
    "       \n",
    "    Returns\n",
    "    -------\n",
    "    x1, x2 : float or complex\n",
    "       Roots.\n",
    "    \"\"\"\n",
    "    solve_quad_1(b, c)\n",
    "    su = x13 + x23\n",
    "    if np.isclose(su,x13,rtol=1e-16) or np.isclose(su,x23,rtol=1e-16):\n",
    "        x1 = -b\n",
    "        x2 = -c/b\n",
    "    else:\n",
    "        x1 = x13\n",
    "        x2 = x23\n",
    "    return x1,x2"
   ]
  },
  {
   "cell_type": "markdown",
   "metadata": {},
   "source": [
    "Test the function"
   ]
  },
  {
   "cell_type": "code",
   "execution_count": 3,
   "metadata": {},
   "outputs": [],
   "source": [
    "from numpy import allclose"
   ]
  },
  {
   "cell_type": "code",
   "execution_count": 4,
   "metadata": {},
   "outputs": [],
   "source": [
    "variants = [{'b': 4.0, 'c': 3.0},\n",
    "            {'b': 2.0, 'c': 1.0},\n",
    "            {'b': 0.5, 'c': 4.0},\n",
    "            {'b': 1e10, 'c': 3.0},\n",
    "            {'b': -1e10, 'c': 4.0},]"
   ]
  },
  {
   "cell_type": "code",
   "execution_count": 5,
   "metadata": {},
   "outputs": [
    {
     "name": "stdout",
     "output_type": "stream",
     "text": [
      "True\n",
      "True\n",
      "True\n",
      "True\n",
      "True\n"
     ]
    }
   ],
   "source": [
    "for var in variants:\n",
    "    x1, x2 = solve_quad(**var)\n",
    "    print(allclose(x1*x2, var['c']))"
   ]
  },
  {
   "cell_type": "markdown",
   "metadata": {},
   "source": [
    "You will need to list solutions for last test's parameters (`{'b': -1e10, 'c': 4.0}`) in order to put them in respective field in Google Form for this lesson."
   ]
  },
  {
   "cell_type": "code",
   "execution_count": 6,
   "metadata": {},
   "outputs": [
    {
     "name": "stdout",
     "output_type": "stream",
     "text": [
      "(10000000000.0, 4e-10)\n"
     ]
    }
   ],
   "source": [
    "print(solve_quad(-1e10, 4.0))"
   ]
  },
  {
   "cell_type": "code",
   "execution_count": null,
   "metadata": {},
   "outputs": [],
   "source": []
  }
 ],
 "metadata": {
  "kernelspec": {
   "display_name": "Python 3",
   "language": "python",
   "name": "python3"
  },
  "language_info": {
   "codemirror_mode": {
    "name": "ipython",
    "version": 3
   },
   "file_extension": ".py",
   "mimetype": "text/x-python",
   "name": "python",
   "nbconvert_exporter": "python",
   "pygments_lexer": "ipython3",
   "version": "3.5.2"
  }
 },
 "nbformat": 4,
 "nbformat_minor": 2
}
